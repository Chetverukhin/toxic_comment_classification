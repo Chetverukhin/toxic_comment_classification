{
 "cells": [
  {
   "cell_type": "markdown",
   "id": "113a6046",
   "metadata": {},
   "source": [
    "# <span style=\"color:Maroon\">ПРОЕКТ: Поиск токсичных комментариев</span>"
   ]
  },
  {
   "cell_type": "markdown",
   "id": "4cef1698",
   "metadata": {},
   "source": [
    "<div style=\"background-color:#f3f3f3; border:solid #363636 2px; padding: 20px\">    \n",
    "Интернет-магазин «Викишоп» запускает новый сервис. Теперь пользователи могут редактировать и дополнять описания товаров, как в вики-сообществах. То есть клиенты предлагают свои правки и комментируют изменения других.<br><br>\n",
    "<b>Цель данного проекта</b> - Необходимо создать инструмент, который будет искать токсичные комментарии и отправлять их на модерацию.<br><br>    \n",
    "Заказчику важны:<br>\n",
    "<li>Модель со значением метрики качества <b><i>F1</i></b> не меньше <b><i>0.75</i></b>.<br><br>\n",
    "<span style=\"color:Maroon\"><b>1 Загрузить и подготовить данные:</b></span><br><br>\n",
    "<li>Проверить состав предоставленной выбороки;\n",
    "<li>Проанализировать данные;\n",
    "<li>Провести предобработку данных;\n",
    "<li>Описать результаты.<br><br>        \n",
    "<span style=\"color:Maroon\"><b>2 Обучить модель и выбрать лучшую:</b></span><br><br>    \n",
    "<li>Обучите разные модели на базовых настройках;\n",
    "<li>Обучите разные модели на с подбором гиперпараметров;\n",
    "<li>Подобрать для моделей оптимальные гиперпараметры;\n",
    "<li>Оценить качество моделей кросс-валидацией;\n",
    "<li>Выбрать лучшую модель\n",
    "<li>Сделать выводы.<br><br>    \n",
    "<span style=\"color:Maroon\"><b>3 Тестирование лучшей модели:</b></span><br><br>    \n",
    "<li>Проверить модель на тестовой выборке;\n",
    "<li>Проанализировать предсказания выбранной модели;\n",
    "<li>Написать выводы и обосновать выбор.  \n",
    "</div>"
   ]
  },
  {
   "cell_type": "markdown",
   "id": "983c7adb",
   "metadata": {},
   "source": [
    "<div style=\"background-color:#f3f3f3; border:solid #363636 2px; padding: 20px\">\n",
    "создам стиль для отображения табличных данных\n",
    "</div>"
   ]
  },
  {
   "cell_type": "code",
   "execution_count": 1,
   "id": "fa151565",
   "metadata": {},
   "outputs": [],
   "source": [
    "cell_hover     = {'selector': 'td:hover',\n",
    "                  'props'   : [('background', '#9E4447'), \n",
    "                               ('color', '#ffffff')]}           # формат выделенной ячейки\n",
    "\n",
    "row_hover      = {'selector': 'tr:hover',\n",
    "                  'props'   : [('background', '#808080'), \n",
    "                               ('color', '#ffffff')]}           # формат выделенной строки\n",
    "\n",
    "color_row_even = {'selector': 'tr:nth-of-type(even)',\n",
    "                  'props'   : [('background', '#D9D9D9'),\n",
    "                               ('color', 'black')]}             # формат нечетных строк\n",
    "\n",
    "color_row_odd  = {'selector': 'tr:nth-of-type(odd)',\n",
    "                  'props'   : [('background', '#ffffff'),\n",
    "                               ('color', '#363636')]}           # формат четных строк\n",
    "\n",
    "index_names    = {'selector': 'th',\n",
    "                  'props'   : [('background', '#363636'), \n",
    "                               ('color', '#ffffff'),  \n",
    "                               ('text-align','center')]}        # формат заголовка и индекса\n",
    "\n",
    "border_inner   = {'selector': 'td',\n",
    "                  'props'   : [('border','1px dashed #363636')]}# формат границы таблицы\n",
    "\n",
    "border_outer   = {'selector': '',\n",
    "                  'props'   : [('border','2px solid #363636')]} # формат границы таблицы\n",
    "\n",
    "caption        = {'selector': 'caption',\n",
    "                  'props'   : [('color', '#363636'), \n",
    "                               ('font-size', '15px')]}\n",
    "\n",
    "# передаю в переменную для дальнейшего использования\n",
    "styler = [cell_hover, color_row_even, color_row_odd, index_names, row_hover, border_inner, border_outer, caption]"
   ]
  },
  {
   "cell_type": "code",
   "execution_count": 2,
   "id": "f96ff554",
   "metadata": {},
   "outputs": [
    {
     "name": "stderr",
     "output_type": "stream",
     "text": [
      "[nltk_data] Downloading package wordnet to C:\\Users\\Stas\n",
      "[nltk_data]     Che\\AppData\\Roaming\\nltk_data...\n",
      "[nltk_data]   Package wordnet is already up-to-date!\n",
      "[nltk_data] Downloading package omw-1.4 to C:\\Users\\Stas\n",
      "[nltk_data]     Che\\AppData\\Roaming\\nltk_data...\n",
      "[nltk_data]   Package omw-1.4 is already up-to-date!\n",
      "[nltk_data] Downloading package stopwords to C:\\Users\\Stas\n",
      "[nltk_data]     Che\\AppData\\Roaming\\nltk_data...\n",
      "[nltk_data]   Package stopwords is already up-to-date!\n"
     ]
    },
    {
     "data": {
      "text/plain": [
       "True"
      ]
     },
     "execution_count": 2,
     "metadata": {},
     "output_type": "execute_result"
    }
   ],
   "source": [
    "# библиотеки\n",
    "import re\n",
    "import pandas as pd \n",
    "import numpy as np\n",
    "import seaborn as sns\n",
    "import torch\n",
    "import transformers\n",
    "import nltk\n",
    "import warnings \n",
    "from matplotlib import pyplot as plt\n",
    "\n",
    "# обработка\n",
    "from transformers import BertModel\n",
    "from transformers import BertTokenizer\n",
    "from tqdm import notebook\n",
    "from sklearn.model_selection import train_test_split\n",
    "from nltk.tokenize import TweetTokenizer   \n",
    "from nltk.stem import WordNetLemmatizer\n",
    "from wordcloud import WordCloud\n",
    "from wordcloud import ImageColorGenerator\n",
    "from wordcloud import STOPWORDS\n",
    "from PIL import Image\n",
    "from nltk.corpus import stopwords as nltk_stopwords\n",
    "\n",
    "# модели\n",
    "from sklearn.model_selection import GridSearchCV\n",
    "from sklearn.linear_model import LogisticRegression\n",
    "from sklearn.ensemble import RandomForestClassifier\n",
    "from sklearn.dummy import DummyClassifier\n",
    "from sklearn.tree import DecisionTreeClassifier\n",
    "from sklearn.svm import LinearSVC\n",
    "from lightgbm import LGBMClassifier\n",
    "\n",
    "# метрики\n",
    "from sklearn.metrics import f1_score\n",
    "from sklearn.metrics import ConfusionMatrixDisplay\n",
    "from sklearn.metrics import confusion_matrix\n",
    "from sklearn.metrics import auc\n",
    "from sklearn.metrics import roc_curve\n",
    "from time import time\n",
    "\n",
    "# настройки и параметры\n",
    "toki_zer   = TweetTokenizer()\n",
    "stop_words = set(nltk_stopwords.words('english'))\n",
    "m          = WordNetLemmatizer()\n",
    "RANDOM     = 1123581321\n",
    "METRIC     = 'f1'\n",
    "warnings.filterwarnings('ignore')\n",
    "nltk.download('wordnet')\n",
    "nltk.download('omw-1.4')\n",
    "nltk.download('stopwords')"
   ]
  },
  {
   "cell_type": "markdown",
   "id": "5846f955",
   "metadata": {},
   "source": [
    "# Загрузка и подготовка данных"
   ]
  },
  {
   "cell_type": "markdown",
   "id": "b4bfdc06",
   "metadata": {},
   "source": [
    "## Загрузка данных и первый осмотр"
   ]
  },
  {
   "cell_type": "markdown",
   "id": "e9b66c01",
   "metadata": {},
   "source": [
    "<div style=\"background-color:#f3f3f3; border:solid #363636 2px; padding: 20px\">\n",
    "Предварительно подгружу библиотеку с предобученной моделью https://huggingface.co/unitary/toxic-bert\n",
    "</div>"
   ]
  },
  {
   "cell_type": "code",
   "execution_count": 3,
   "id": "44b4caf9",
   "metadata": {
    "scrolled": true
   },
   "outputs": [
    {
     "name": "stderr",
     "output_type": "stream",
     "text": [
      "Some weights of the model checkpoint at unitary/toxic-bert were not used when initializing BertModel: ['classifier.weight', 'classifier.bias']\n",
      "- This IS expected if you are initializing BertModel from the checkpoint of a model trained on another task or with another architecture (e.g. initializing a BertForSequenceClassification model from a BertForPreTraining model).\n",
      "- This IS NOT expected if you are initializing BertModel from the checkpoint of a model that you expect to be exactly identical (initializing a BertForSequenceClassification model from a BertForSequenceClassification model).\n"
     ]
    }
   ],
   "source": [
    "model = BertModel.from_pretrained('unitary/toxic-bert',output_hidden_states = True)\n",
    "\n",
    "# инициализируем токенизатор\n",
    "tokenizer = BertTokenizer.from_pretrained('unitary/toxic-bert')"
   ]
  },
  {
   "cell_type": "markdown",
   "id": "ed085e26",
   "metadata": {},
   "source": [
    "<div style=\"background-color:#f3f3f3; border:solid #363636 2px; padding: 20px\">\n",
    "Далее загружаем датасет для работы\n",
    "</div>"
   ]
  },
  {
   "cell_type": "code",
   "execution_count": 4,
   "id": "03e15541",
   "metadata": {},
   "outputs": [],
   "source": [
    "# вариативная загрузка данных\n",
    "try:\n",
    "    data_text = pd.read_csv('toxic_comments.csv')\n",
    "except:\n",
    "    data_text = pd.read_csv('/datasets/toxic_comments.csv')"
   ]
  },
  {
   "cell_type": "code",
   "execution_count": 5,
   "id": "1ff38651",
   "metadata": {},
   "outputs": [
    {
     "name": "stdout",
     "output_type": "stream",
     "text": [
      "<class 'pandas.core.frame.DataFrame'>\n",
      "RangeIndex: 159292 entries, 0 to 159291\n",
      "Data columns (total 3 columns):\n",
      " #   Column      Non-Null Count   Dtype \n",
      "---  ------      --------------   ----- \n",
      " 0   Unnamed: 0  159292 non-null  int64 \n",
      " 1   text        159292 non-null  object\n",
      " 2   toxic       159292 non-null  int64 \n",
      "dtypes: int64(2), object(1)\n",
      "memory usage: 3.6+ MB\n"
     ]
    }
   ],
   "source": [
    "data_text.info()"
   ]
  },
  {
   "cell_type": "code",
   "execution_count": 6,
   "id": "215d893a",
   "metadata": {},
   "outputs": [
    {
     "data": {
      "text/plain": [
       "'89.84%'"
      ]
     },
     "execution_count": 6,
     "metadata": {},
     "output_type": "execute_result"
    }
   ],
   "source": [
    "'{:.2%}'.format(data_text.value_counts('toxic')[0] / data_text.shape[0])"
   ]
  },
  {
   "cell_type": "markdown",
   "id": "274cfb58",
   "metadata": {},
   "source": [
    "<div style=\"background-color:#f3f3f3; border:solid #363636 2px; padding: 20px\">    \n",
    "Баланс классов в данных сильно искажен в сторону не токсичных комментариев\n",
    "</div>"
   ]
  },
  {
   "cell_type": "code",
   "execution_count": 7,
   "id": "413a344f",
   "metadata": {},
   "outputs": [],
   "source": [
    "data_text['text_length'] = data_text['text'].apply(lambda x: len(str(x)))"
   ]
  },
  {
   "cell_type": "code",
   "execution_count": 8,
   "id": "1e3c3c91",
   "metadata": {
    "scrolled": false
   },
   "outputs": [
    {
     "data": {
      "image/png": "[encoded data removed]",
      "text/plain": [
       "<Figure size 864x432 with 1 Axes>"
      ]
     },
     "metadata": {
      "needs_background": "light"
     },
     "output_type": "display_data"
    }
   ],
   "source": [
    "plt.figure(figsize = (12, 6))\n",
    "sns.set_style('whitegrid')\n",
    "\n",
    "sns.histplot(data_text['text_length'], \n",
    "             bins = 10, \n",
    "             color = '#363636', \n",
    "             element=\"step\")\n",
    "plt.show()"
   ]
  },
  {
   "cell_type": "markdown",
   "id": "846f389f",
   "metadata": {},
   "source": [
    "<div style=\"background-color:#f3f3f3; border:solid #363636 2px; padding: 20px\">    \n",
    "длина комментариев достигает 5000 символов, основное количество сосредоточено в районе 500 символов\n",
    "</div>"
   ]
  },
  {
   "cell_type": "markdown",
   "id": "6b61015f",
   "metadata": {},
   "source": [
    "## Облако слов"
   ]
  },
  {
   "cell_type": "markdown",
   "id": "0ac767bf",
   "metadata": {},
   "source": [
    "<div style=\"background-color:#f3f3f3; border:solid #363636 2px; padding: 20px\">    \n",
    "Создам облако самых популярных слов в токсичных комментариях, для этого предварительно проведу очистку текста\n",
    "</div>"
   ]
  },
  {
   "cell_type": "code",
   "execution_count": 9,
   "id": "c2ab7490",
   "metadata": {},
   "outputs": [],
   "source": [
    "aphost = { \"aren't\" : \"are not\", \"can't\" : \"cannot\", \"couldn't\" : \"could not\", \n",
    "          \"didn't\" : \"did not\", \"doesn't\" : \"does not\", \"don't\" : \"do not\",\n",
    "          \"hadn't\" : \"had not\", \"hasn't\" : \"has not\", \"haven't\" : \"have not\",\n",
    "          \"he'd\" : \"he would\", \"he'll\" : \"he will\", \"he's\" : \"he is\",\n",
    "          \"i'd\" : \"I would\", \"i'd\" : \"I had\", \"i'll\" : \"I will\", \"i'm\" : \"I am\",\n",
    "          \"isn't\" : \"is not\", \"it's\" : \"it is\", \"it'll\":\"it will\", \"i've\" : \"I have\",\n",
    "          \"let's\" : \"let us\", \"mightn't\" : \"might not\", \"mustn't\" : \"must not\",\n",
    "          \"shan't\" : \"shall not\", \"she'd\" : \"she would\", \"she'll\" : \"she will\", \"she's\" : \"she is\",\n",
    "          \"shouldn't\" : \"should not\", \"that's\" : \"that is\", \"there's\" : \"there is\",\n",
    "          \"they'd\" : \"they would\", \"they'll\" : \"they will\", \"they're\" : \"they are\",\n",
    "          \"they've\" : \"they have\", \"we'd\" : \"we would\", \"we're\" : \"we are\", \"weren't\" : \"were not\",\n",
    "          \"we've\" : \"we have\", \"what'll\" : \"what will\", \"what're\" : \"what are\", \"what's\" : \"what is\",\n",
    "          \"what've\" : \"what have\", \"where's\" : \"where is\", \"who'd\" : \"who would\",\n",
    "          \"who'll\" : \"who will\", \"who're\" : \"who are\", \"who's\" : \"who is\", \"who've\" : \"who have\",\n",
    "          \"won't\" : \"will not\", \"wouldn't\" : \"would not\", \"you'd\" : \"you would\",\n",
    "          \"you'll\" : \"you will\", \"you're\" : \"you are\", \"you've\" : \"you have\",\n",
    "          \"'re\": \" are\", \"wasn't\": \"was not\", \"we'll\":\" will\", \"didn't\": \"did not\",\"tryin'\":\"trying\"}"
   ]
  },
  {
   "cell_type": "code",
   "execution_count": 10,
   "id": "86422bf4",
   "metadata": {},
   "outputs": [],
   "source": [
    "def clear_text(text):    \n",
    "    \n",
    "    clear_lemm_text = str(text.lower())    \n",
    "    clear_lemm_text = re.sub(r'\\\\n','',clear_lemm_text)\n",
    "    clear_lemm_text = re.sub(r'\\\\n\\\\n','',clear_lemm_text)\n",
    "    clear_lemm_text = re.sub(r'\\[\\[.*\\]','',clear_lemm_text)\n",
    "    clear_lemm_text = re.sub(r'\\d{1,3}\\.\\d{1,3}\\.\\d{1,3}\\.\\d{1,3}','',clear_lemm_text)\n",
    "    clear_lemm_text = re.sub(r'[^a-zA-Z]',' ',clear_lemm_text)\n",
    "    clear_lemm_text = re.sub(r' . ',' ',clear_lemm_text)\n",
    "    \n",
    "    words = toki_zer.tokenize(clear_lemm_text)    \n",
    "    words = [aphost[word] if word in aphost else word for word in words]\n",
    "    words = [m.lemmatize(word, \"v\") for word in words]\n",
    "    words = [w for w in words if not w in stop_words]\n",
    "    \n",
    "    clear_lemm_text = \" \".join(words)\n",
    "    \n",
    "    return clear_lemm_text"
   ]
  },
  {
   "cell_type": "code",
   "execution_count": 11,
   "id": "1d3feccb",
   "metadata": {},
   "outputs": [],
   "source": [
    "text_cloud = data_text[data_text['toxic'] == 1]\n",
    "text_cloud['text'] = text_cloud['text'].apply(clear_text)"
   ]
  },
  {
   "cell_type": "code",
   "execution_count": 12,
   "id": "343cb207",
   "metadata": {},
   "outputs": [],
   "source": [
    "def word_cloud(data, path, label):\n",
    "    mask = np.array(Image.open(path))\n",
    "    text = \" \".join(t for t in data)\n",
    "    \n",
    "    wordcloud = WordCloud(stopwords        = STOPWORDS, \n",
    "                          background_color = \"white\",\n",
    "                          max_words        = 1000, \n",
    "                          mask             = mask).generate(text)\n",
    "\n",
    "    image_colors = ImageColorGenerator(mask)\n",
    "    \n",
    "    plt.figure(figsize = (10, 10))\n",
    "    plt.imshow(wordcloud.recolor(color_func = image_colors), interpolation = \"bilinear\")\n",
    "    plt.title(label, fontsize = 14)\n",
    "    plt.axis(\"off\")"
   ]
  },
  {
   "cell_type": "code",
   "execution_count": 13,
   "id": "11d24939",
   "metadata": {},
   "outputs": [
    {
     "data": {
      "image/png": "[encoded data removed]",
      "text/plain": [
       "<Figure size 720x720 with 1 Axes>"
      ]
     },
     "metadata": {},
     "output_type": "display_data"
    }
   ],
   "source": [
    "word_cloud(text_cloud['text'], 'heart.png', 'Cloud Words Toxic Comments')"
   ]
  },
  {
   "cell_type": "markdown",
   "id": "ff13006f",
   "metadata": {},
   "source": [
    "## Подготовка признаков"
   ]
  },
  {
   "cell_type": "markdown",
   "id": "957d42f0",
   "metadata": {},
   "source": [
    "<div style=\"background-color:#f3f3f3; border:solid #363636 2px; padding: 20px\">    \n",
    "В датасете огромное количество комментариев, это затруднит подготовку текста и обучение моделей, поэтому я сделаю выборку из датасета с учетом дисбаланса классов которые были найдены на предыдущем этапе, соберу выборку из 1000 тыс. экземпляров случайным образом\n",
    "</div>"
   ]
  },
  {
   "cell_type": "code",
   "execution_count": 14,
   "id": "c56bdd2f",
   "metadata": {},
   "outputs": [],
   "source": [
    "text_sample = data_text.sample(1000, random_state = RANDOM)"
   ]
  },
  {
   "cell_type": "markdown",
   "id": "44b7e71a",
   "metadata": {},
   "source": [
    "<div style=\"background-color:#f3f3f3; border:solid #363636 2px; padding: 20px\">    \n",
    "Токенизируем каждый комментарий\n",
    "</div>"
   ]
  },
  {
   "cell_type": "code",
   "execution_count": 15,
   "id": "e01580cd",
   "metadata": {},
   "outputs": [],
   "source": [
    "tokenized = text_sample['text'].apply(lambda x: tokenizer.encode(x, add_special_tokens=True, truncation=True))"
   ]
  },
  {
   "cell_type": "code",
   "execution_count": 16,
   "id": "e5627d2e",
   "metadata": {
    "scrolled": false
   },
   "outputs": [
    {
     "name": "stdout",
     "output_type": "stream",
     "text": [
      "максимальная длина вектора:512\n"
     ]
    },
    {
     "data": {
      "image/png": "[encoded data removed]",
      "text/plain": [
       "<Figure size 864x432 with 1 Axes>"
      ]
     },
     "metadata": {},
     "output_type": "display_data"
    }
   ],
   "source": [
    "plt.figure(figsize = (12, 6))\n",
    "sns.set_style('whitegrid')\n",
    "ax = tokenized.str.len()\n",
    "sns.histplot(ax, \n",
    "             bins = 10, \n",
    "             color = '#363636', \n",
    "             element=\"step\")\n",
    "print(f'максимальная длина вектора:{ax.max()}')\n",
    "plt.show()"
   ]
  },
  {
   "cell_type": "markdown",
   "id": "c1e50cea",
   "metadata": {},
   "source": [
    "<div style=\"background-color:#f3f3f3; border:solid #363636 2px; padding: 20px\">    \n",
    "Токены подготовлены, максимальная длина вектора составляет 512, далее необходимо применит метод <b>padding</b> к векторам и создать маску для выделения важных токенов, куда передадим размер самого длинного вектора\n",
    "</div>"
   ]
  },
  {
   "cell_type": "code",
   "execution_count": 17,
   "id": "254c9a1d",
   "metadata": {},
   "outputs": [],
   "source": [
    "padded = np.array([i + [0]*(ax.max() - len(i)) for i in tokenized.values])"
   ]
  },
  {
   "cell_type": "code",
   "execution_count": 18,
   "id": "59f33380",
   "metadata": {},
   "outputs": [],
   "source": [
    "# создадим маску для важных токенов\n",
    "attention_mask = np.where(padded != 0, 1, 0)"
   ]
  },
  {
   "cell_type": "markdown",
   "id": "89784998",
   "metadata": {},
   "source": [
    "<div style=\"background-color:#f3f3f3; border:solid #363636 2px; padding: 20px\">    \n",
    "Проверим размеры матриц\n",
    "</div>"
   ]
  },
  {
   "cell_type": "code",
   "execution_count": 19,
   "id": "bb4f4cf6",
   "metadata": {},
   "outputs": [
    {
     "data": {
      "text/plain": [
       "True"
      ]
     },
     "execution_count": 19,
     "metadata": {},
     "output_type": "execute_result"
    }
   ],
   "source": [
    "padded.shape[0] == attention_mask.shape[0]"
   ]
  },
  {
   "cell_type": "code",
   "execution_count": 20,
   "id": "d72530df",
   "metadata": {
    "scrolled": true
   },
   "outputs": [
    {
     "data": {
      "text/plain": [
       "True"
      ]
     },
     "execution_count": 20,
     "metadata": {},
     "output_type": "execute_result"
    }
   ],
   "source": [
    "padded.shape[0] == attention_mask.shape[0] == tokenized.shape[0]"
   ]
  },
  {
   "cell_type": "markdown",
   "id": "8aedeba2",
   "metadata": {},
   "source": [
    "## Эмбеддинг"
   ]
  },
  {
   "cell_type": "markdown",
   "id": "931b0359",
   "metadata": {},
   "source": [
    "<div style=\"background-color:#f3f3f3; border:solid #363636 2px; padding: 20px\">    \n",
    "Начнём преобразование текстов в эмбеддинги. Эмбеддинги модель <b>BERT</b> создаёт батчами, чтобы хватило оперативной памяти, сделаем размер батча небольшим.\n",
    "   \n",
    "Преобразуем данные в формат тензоров в библиотеке <b>torch</b>, которые передадим модели, далее из полученного тензора извлечём нужные элементы и добавим в список всех эмбеддингов\n",
    "</div>"
   ]
  },
  {
   "cell_type": "raw",
   "id": "0cea9e6f",
   "metadata": {},
   "source": [
    "#активировать при полном обучении проекта\n",
    "%%time\n",
    "batch_size = 100\n",
    "embeddings = []\n",
    "\n",
    "for i in notebook.tqdm(range(padded.shape[0] // batch_size)):\n",
    "    \n",
    "        batch = torch.LongTensor(padded[batch_size * i : batch_size * (i + 1)])\n",
    "        \n",
    "        attention_mask_batch = torch.LongTensor(attention_mask[batch_size * i : batch_size * (i + 1)])\n",
    "        \n",
    "        with torch.no_grad():\n",
    "            \n",
    "            batch_embeddings = model(batch, attention_mask=attention_mask_batch)\n",
    "        \n",
    "        embeddings.append(batch_embeddings[0][:,0,:].numpy())"
   ]
  },
  {
   "cell_type": "markdown",
   "id": "88d33791",
   "metadata": {},
   "source": [
    "<div style=\"background-color:#f3f3f3; border:solid #363636 2px; padding: 20px\">    \n",
    "Соберём все эмбеддинги в матрицу признаков\n",
    "</div>"
   ]
  },
  {
   "cell_type": "raw",
   "id": "d31b06e2",
   "metadata": {},
   "source": [
    "#активировать при полном обучении проекта\n",
    "np.save('embeddings.npy', embeddings)"
   ]
  },
  {
   "cell_type": "code",
   "execution_count": 21,
   "id": "de512ba7",
   "metadata": {},
   "outputs": [],
   "source": [
    "embeddings = np.load('embeddings.npy')"
   ]
  },
  {
   "cell_type": "code",
   "execution_count": 22,
   "id": "efe4af81",
   "metadata": {},
   "outputs": [],
   "source": [
    "features = np.concatenate(embeddings)\n",
    "target   =  text_sample['toxic']"
   ]
  },
  {
   "cell_type": "code",
   "execution_count": 23,
   "id": "80200f5e",
   "metadata": {},
   "outputs": [],
   "source": [
    "features_train, features_test, target_train, target_test = train_test_split(features,\n",
    "                                                                            target,\n",
    "                                                                            test_size    = 0.5, \n",
    "                                                                            random_state = RANDOM,\n",
    "                                                                            stratify     = target)"
   ]
  },
  {
   "cell_type": "code",
   "execution_count": 24,
   "id": "def9d8e2",
   "metadata": {
    "scrolled": true
   },
   "outputs": [
    {
     "data": {
      "text/plain": [
       "(0    447\n",
       " 1     53\n",
       " Name: toxic, dtype: int64,\n",
       " 0    447\n",
       " 1     53\n",
       " Name: toxic, dtype: int64)"
      ]
     },
     "execution_count": 24,
     "metadata": {},
     "output_type": "execute_result"
    }
   ],
   "source": [
    "target_train.value_counts(), target_test.value_counts()"
   ]
  },
  {
   "cell_type": "markdown",
   "id": "86c31517",
   "metadata": {},
   "source": [
    "<div style=\"background-color:#f3f3f3; border:solid #363636 2px; padding: 20px\">    \n",
    "проверка содержание классов в тренировочной и тестовой выборках, показывает что распределение на уровне основного датасета, которые равномерно распределены в выборках - баланс соблюден\n",
    "</div>"
   ]
  },
  {
   "cell_type": "markdown",
   "id": "b69a475d",
   "metadata": {},
   "source": [
    "<div style=\"background-color:gray; border:solid #363636 2px; padding: 20px\">      \n",
    "<span style=\"color:white\"><b>Выводы:</b></span><br><br>   \n",
    "<span style=\"color:white\">    \n",
    "<li>Данные загружены;\n",
    "<li>Данные отобраны для дальнейшей работы;\n",
    "<li>Проведена токенизация;\n",
    "<li>Проведен эмбеддинг;\n",
    "<li>Проведена разбивка данных на тренировочную и тестовую;\n",
    "<li>Признаки готовы, можно обучать модель!\n",
    "</span>\n",
    "</div>"
   ]
  },
  {
   "cell_type": "markdown",
   "id": "beef7fe7",
   "metadata": {},
   "source": [
    "# Обучение моделей"
   ]
  },
  {
   "cell_type": "markdown",
   "id": "a68de05e",
   "metadata": {},
   "source": [
    "<div style=\"background-color:#f3f3f3; border:solid #363636 2px; padding: 20px\">    \n",
    "В данном проекте стоит задача классификации, для это я выбрал четыре модели <b>LogisticRegression, RandomForestClassifier, DecisionTreeClassifier, LGBMClassifier, LinearSVC</b>. Основная задача подготовить и найти модель, у которой метрия <b>f1_score будет не ниже 0,75</b>, для автоматизированного процесса буду использовать <b>GridSearchCV</b>, для подбора параметров, предварительно создам функцию для расчета.<br>    \n",
    "Так же хочу провести моделирование в несколько этапов, чтобы отследить изменение качества моделей на всем пути обучения\n",
    "</div>"
   ]
  },
  {
   "cell_type": "markdown",
   "id": "d0f4bb49",
   "metadata": {},
   "source": [
    "## Модели с базовыми параметрами"
   ]
  },
  {
   "cell_type": "code",
   "execution_count": 25,
   "id": "fab4d4dc",
   "metadata": {},
   "outputs": [],
   "source": [
    "def grid_search_model_score(models, parameters, scoring, features, target):\n",
    "    \n",
    "    scores  = []\n",
    "    \n",
    "    for i in notebook.tqdm(range(len(models))):\n",
    "\n",
    "        grid_model = GridSearchCV(estimator  = models[i], \n",
    "                                  param_grid = parameters[i],\n",
    "                                  scoring    = METRIC,\n",
    "                                  n_jobs     = -1,\n",
    "                                  cv         = 5)\n",
    "\n",
    "        grid_model.fit(features, target)\n",
    "\n",
    "        time_score    = grid_model.cv_results_['mean_test_score']    \n",
    "        mean_fit_time = grid_model.cv_results_['mean_fit_time'][np.where(time_score == time_score.max())[0][0]]\n",
    "\n",
    "        scores.append([' '.join(re.sub(r'([A-Z])', r' \\1', str(models[i]).split('(')[0]).split()), \n",
    "                       grid_model.best_score_, \n",
    "                       mean_fit_time,\n",
    "                       grid_model.best_params_])\n",
    "    return scores"
   ]
  },
  {
   "cell_type": "code",
   "execution_count": 26,
   "id": "b2a71ae2",
   "metadata": {},
   "outputs": [],
   "source": [
    "classifiers  = [LogisticRegression(random_state = RANDOM),\n",
    "                RandomForestClassifier(random_state = RANDOM),\n",
    "                DecisionTreeClassifier(random_state = RANDOM),\n",
    "                LinearSVC(random_state = RANDOM)]"
   ]
  },
  {
   "cell_type": "code",
   "execution_count": 27,
   "id": "28165059",
   "metadata": {},
   "outputs": [],
   "source": [
    "parameters = [{}] * len(classifiers)"
   ]
  },
  {
   "cell_type": "code",
   "execution_count": 28,
   "id": "b9f290ed",
   "metadata": {
    "scrolled": false
   },
   "outputs": [
    {
     "data": {
      "application/vnd.jupyter.widget-view+json": {
       "model_id": "d883820bd2bf49d18a920b061d51765e",
       "version_major": 2,
       "version_minor": 0
      },
      "text/plain": [
       "  0%|          | 0/4 [00:00<?, ?it/s]"
      ]
     },
     "metadata": {},
     "output_type": "display_data"
    },
    {
     "name": "stdout",
     "output_type": "stream",
     "text": [
      "Wall time: 6.21 s\n"
     ]
    }
   ],
   "source": [
    "%%time\n",
    "scores_base = grid_search_model_score(classifiers, \n",
    "                                      parameters, \n",
    "                                      METRIC, \n",
    "                                      features_train, \n",
    "                                      target_train)"
   ]
  },
  {
   "cell_type": "code",
   "execution_count": 29,
   "id": "306c8c74",
   "metadata": {
    "scrolled": true
   },
   "outputs": [
    {
     "data": {
      "text/html": [
       "<style type=\"text/css\">\n",
       "#T_69770_ td:hover {\n",
       "  background: #9E4447;\n",
       "  color: #ffffff;\n",
       "}\n",
       "#T_69770_ tr:nth-of-type(even) {\n",
       "  background: #D9D9D9;\n",
       "  color: black;\n",
       "}\n",
       "#T_69770_ tr:nth-of-type(odd) {\n",
       "  background: #ffffff;\n",
       "  color: #363636;\n",
       "}\n",
       "#T_69770_ th {\n",
       "  background: #363636;\n",
       "  color: #ffffff;\n",
       "  text-align: center;\n",
       "}\n",
       "#T_69770_ tr:hover {\n",
       "  background: #808080;\n",
       "  color: #ffffff;\n",
       "}\n",
       "#T_69770_ td {\n",
       "  border: 1px dashed #363636;\n",
       "}\n",
       "#T_69770_  {\n",
       "  border: 2px solid #363636;\n",
       "}\n",
       "#T_69770_ caption {\n",
       "  color: #363636;\n",
       "  font-size: 15px;\n",
       "}\n",
       "</style>\n",
       "<table id=\"T_69770_\">\n",
       "  <caption>Результаты моделей на базовых параметрах</caption>\n",
       "  <thead>\n",
       "    <tr>\n",
       "      <th class=\"blank level0\" >&nbsp;</th>\n",
       "      <th class=\"col_heading level0 col0\" >model</th>\n",
       "      <th class=\"col_heading level0 col1\" >f1</th>\n",
       "      <th class=\"col_heading level0 col2\" >mean_fit_time</th>\n",
       "      <th class=\"col_heading level0 col3\" >parameters</th>\n",
       "    </tr>\n",
       "  </thead>\n",
       "  <tbody>\n",
       "    <tr>\n",
       "      <th id=\"T_69770_level0_row0\" class=\"row_heading level0 row0\" >0</th>\n",
       "      <td id=\"T_69770_row0_col0\" class=\"data row0 col0\" >Logistic Regression</td>\n",
       "      <td id=\"T_69770_row0_col1\" class=\"data row0 col1\" >0.90</td>\n",
       "      <td id=\"T_69770_row0_col2\" class=\"data row0 col2\" >0.06s</td>\n",
       "      <td id=\"T_69770_row0_col3\" class=\"data row0 col3\" >{}</td>\n",
       "    </tr>\n",
       "    <tr>\n",
       "      <th id=\"T_69770_level0_row1\" class=\"row_heading level0 row1\" >1</th>\n",
       "      <td id=\"T_69770_row1_col0\" class=\"data row1 col0\" >Linear S V C</td>\n",
       "      <td id=\"T_69770_row1_col1\" class=\"data row1 col1\" >0.90</td>\n",
       "      <td id=\"T_69770_row1_col2\" class=\"data row1 col2\" >0.04s</td>\n",
       "      <td id=\"T_69770_row1_col3\" class=\"data row1 col3\" >{}</td>\n",
       "    </tr>\n",
       "    <tr>\n",
       "      <th id=\"T_69770_level0_row2\" class=\"row_heading level0 row2\" >2</th>\n",
       "      <td id=\"T_69770_row2_col0\" class=\"data row2 col0\" >Random Forest Classifier</td>\n",
       "      <td id=\"T_69770_row2_col1\" class=\"data row2 col1\" >0.90</td>\n",
       "      <td id=\"T_69770_row2_col2\" class=\"data row2 col2\" >0.30s</td>\n",
       "      <td id=\"T_69770_row2_col3\" class=\"data row2 col3\" >{}</td>\n",
       "    </tr>\n",
       "    <tr>\n",
       "      <th id=\"T_69770_level0_row3\" class=\"row_heading level0 row3\" >3</th>\n",
       "      <td id=\"T_69770_row3_col0\" class=\"data row3 col0\" >Decision Tree Classifier</td>\n",
       "      <td id=\"T_69770_row3_col1\" class=\"data row3 col1\" >0.85</td>\n",
       "      <td id=\"T_69770_row3_col2\" class=\"data row3 col2\" >0.07s</td>\n",
       "      <td id=\"T_69770_row3_col3\" class=\"data row3 col3\" >{}</td>\n",
       "    </tr>\n",
       "  </tbody>\n",
       "</table>\n"
      ],
      "text/plain": [
       "<pandas.io.formats.style.Styler at 0x1dfe4e4a580>"
      ]
     },
     "execution_count": 29,
     "metadata": {},
     "output_type": "execute_result"
    }
   ],
   "source": [
    "pd.DataFrame(data    = scores_base, \n",
    "             columns = ['model', 'f1', 'mean_fit_time', 'parameters'])\\\n",
    "            .sort_values(['f1', 'mean_fit_time'], ascending = [False, True])\\\n",
    "            .reset_index(drop = True)\\\n",
    "            .style\\\n",
    "            .format({'f1':'{:.2f}', 'mean_fit_time' : '{:,.2f}s'})\\\n",
    "            .set_caption(f'Результаты моделей на базовых параметрах',)\\\n",
    "            .set_table_styles(styler)"
   ]
  },
  {
   "cell_type": "markdown",
   "id": "f5589069",
   "metadata": {},
   "source": [
    "<div style=\"background-color:#f3f3f3; border:solid #363636 2px; padding: 20px\">    \n",
    "На базовых параметрах, все модели показывают отличный результат, выше заявленного, лидирует по качеству - модель на базовых параметрах <b>Random Forest Classifier</b>. Теперь необходимо постараться улучшить результаты с помощью подбора гиперпараметров для моделей\n",
    "</div>"
   ]
  },
  {
   "cell_type": "markdown",
   "id": "4ac3b7af",
   "metadata": {},
   "source": [
    "## Подбор гиперпараметров"
   ]
  },
  {
   "cell_type": "markdown",
   "id": "df996497",
   "metadata": {},
   "source": [
    "<div style=\"background-color:#f3f3f3; border:solid #363636 2px; padding: 20px\">\n",
    "    \n",
    "Далее буду перебирать параметры для моделей и на основании показателей качества моделей выберу лучшую\n",
    "</div>"
   ]
  },
  {
   "cell_type": "code",
   "execution_count": 30,
   "id": "6b8e6567",
   "metadata": {},
   "outputs": [],
   "source": [
    "parameters = [{'solver'       : ['newton-cg', 'lbfgs', 'liblinear'],\n",
    "               'class_weight' : ['balanced', None]},\n",
    "              \n",
    "              {'n_estimators'      : [1000, 2000],\n",
    "               'max_depth'         : [5, 10],\n",
    "               'max_features'      : ['log2', 'sqrt'],\n",
    "               'min_samples_split' : [5, 10],\n",
    "               'min_samples_leaf'  : [10, 15, 20, 25],\n",
    "               'class_weight'      : ['balanced', None]},\n",
    "              \n",
    "              {'max_depth'         : [5, 10],\n",
    "               'max_features'      : ['log2', 'sqrt'],\n",
    "               'min_samples_split' : [5, 10, 15],\n",
    "               'min_samples_leaf'  : [5, 10, 15],\n",
    "               'class_weight'      : ['balanced', None]},\n",
    "              \n",
    "              {'max_iter'     : [1000, 1500, 3000],\n",
    "               'class_weight' : ['balanced', None], \n",
    "               'C'            : [1.0, 6.0, 12.0]}]"
   ]
  },
  {
   "cell_type": "code",
   "execution_count": 31,
   "id": "59438eb7",
   "metadata": {
    "scrolled": true
   },
   "outputs": [
    {
     "data": {
      "application/vnd.jupyter.widget-view+json": {
       "model_id": "58d8397d164a41a59b04faf2ee6abae8",
       "version_major": 2,
       "version_minor": 0
      },
      "text/plain": [
       "  0%|          | 0/4 [00:00<?, ?it/s]"
      ]
     },
     "metadata": {},
     "output_type": "display_data"
    },
    {
     "name": "stdout",
     "output_type": "stream",
     "text": [
      "Wall time: 4min 21s\n"
     ]
    }
   ],
   "source": [
    "%%time\n",
    "scores_param = grid_search_model_score(classifiers, \n",
    "                                       parameters, \n",
    "                                       METRIC, \n",
    "                                       features_train,\n",
    "                                       target_train)"
   ]
  },
  {
   "cell_type": "code",
   "execution_count": 32,
   "id": "a5d67b09",
   "metadata": {},
   "outputs": [
    {
     "data": {
      "text/html": [
       "<style type=\"text/css\">\n",
       "#T_744f6_ td:hover {\n",
       "  background: #9E4447;\n",
       "  color: #ffffff;\n",
       "}\n",
       "#T_744f6_ tr:nth-of-type(even) {\n",
       "  background: #D9D9D9;\n",
       "  color: black;\n",
       "}\n",
       "#T_744f6_ tr:nth-of-type(odd) {\n",
       "  background: #ffffff;\n",
       "  color: #363636;\n",
       "}\n",
       "#T_744f6_ th {\n",
       "  background: #363636;\n",
       "  color: #ffffff;\n",
       "  text-align: center;\n",
       "}\n",
       "#T_744f6_ tr:hover {\n",
       "  background: #808080;\n",
       "  color: #ffffff;\n",
       "}\n",
       "#T_744f6_ td {\n",
       "  border: 1px dashed #363636;\n",
       "}\n",
       "#T_744f6_  {\n",
       "  border: 2px solid #363636;\n",
       "}\n",
       "#T_744f6_ caption {\n",
       "  color: #363636;\n",
       "  font-size: 15px;\n",
       "}\n",
       "</style>\n",
       "<table id=\"T_744f6_\">\n",
       "  <caption>Результаты моделей с подбором гиперпараметров</caption>\n",
       "  <thead>\n",
       "    <tr>\n",
       "      <th class=\"blank level0\" >&nbsp;</th>\n",
       "      <th class=\"col_heading level0 col0\" >model</th>\n",
       "      <th class=\"col_heading level0 col1\" >f1</th>\n",
       "      <th class=\"col_heading level0 col2\" >mean_fit_time</th>\n",
       "      <th class=\"col_heading level0 col3\" >parameters</th>\n",
       "    </tr>\n",
       "  </thead>\n",
       "  <tbody>\n",
       "    <tr>\n",
       "      <th id=\"T_744f6_level0_row0\" class=\"row_heading level0 row0\" >0</th>\n",
       "      <td id=\"T_744f6_row0_col0\" class=\"data row0 col0\" >Random Forest Classifier</td>\n",
       "      <td id=\"T_744f6_row0_col1\" class=\"data row0 col1\" >0.92</td>\n",
       "      <td id=\"T_744f6_row0_col2\" class=\"data row0 col2\" >3.19s</td>\n",
       "      <td id=\"T_744f6_row0_col3\" class=\"data row0 col3\" >{'class_weight': 'balanced', 'max_depth': 5, 'max_features': 'log2', 'min_samples_leaf': 10, 'min_samples_split': 5, 'n_estimators': 1000}</td>\n",
       "    </tr>\n",
       "    <tr>\n",
       "      <th id=\"T_744f6_level0_row1\" class=\"row_heading level0 row1\" >1</th>\n",
       "      <td id=\"T_744f6_row1_col0\" class=\"data row1 col0\" >Linear S V C</td>\n",
       "      <td id=\"T_744f6_row1_col1\" class=\"data row1 col1\" >0.91</td>\n",
       "      <td id=\"T_744f6_row1_col2\" class=\"data row1 col2\" >0.06s</td>\n",
       "      <td id=\"T_744f6_row1_col3\" class=\"data row1 col3\" >{'C': 1.0, 'class_weight': 'balanced', 'max_iter': 1000}</td>\n",
       "    </tr>\n",
       "    <tr>\n",
       "      <th id=\"T_744f6_level0_row2\" class=\"row_heading level0 row2\" >2</th>\n",
       "      <td id=\"T_744f6_row2_col0\" class=\"data row2 col0\" >Decision Tree Classifier</td>\n",
       "      <td id=\"T_744f6_row2_col1\" class=\"data row2 col1\" >0.90</td>\n",
       "      <td id=\"T_744f6_row2_col2\" class=\"data row2 col2\" >0.00s</td>\n",
       "      <td id=\"T_744f6_row2_col3\" class=\"data row2 col3\" >{'class_weight': 'balanced', 'max_depth': 5, 'max_features': 'log2', 'min_samples_leaf': 10, 'min_samples_split': 5}</td>\n",
       "    </tr>\n",
       "    <tr>\n",
       "      <th id=\"T_744f6_level0_row3\" class=\"row_heading level0 row3\" >3</th>\n",
       "      <td id=\"T_744f6_row3_col0\" class=\"data row3 col0\" >Logistic Regression</td>\n",
       "      <td id=\"T_744f6_row3_col1\" class=\"data row3 col1\" >0.90</td>\n",
       "      <td id=\"T_744f6_row3_col2\" class=\"data row3 col2\" >0.18s</td>\n",
       "      <td id=\"T_744f6_row3_col3\" class=\"data row3 col3\" >{'class_weight': None, 'solver': 'newton-cg'}</td>\n",
       "    </tr>\n",
       "  </tbody>\n",
       "</table>\n"
      ],
      "text/plain": [
       "<pandas.io.formats.style.Styler at 0x1dfe50c5a60>"
      ]
     },
     "execution_count": 32,
     "metadata": {},
     "output_type": "execute_result"
    }
   ],
   "source": [
    "pd.DataFrame(data    = scores_param, \n",
    "             columns = ['model', 'f1', 'mean_fit_time', 'parameters'])\\\n",
    "            .sort_values(['f1', 'mean_fit_time'], ascending = [False, True])\\\n",
    "            .reset_index(drop = True)\\\n",
    "            .style\\\n",
    "            .format({'f1':'{:.2f}', 'mean_fit_time' : '{:,.2f}s'})\\\n",
    "            .set_caption(f'Результаты моделей с подбором гиперпараметров',)\\\n",
    "            .set_table_styles(styler)"
   ]
  },
  {
   "cell_type": "markdown",
   "id": "1a26f663",
   "metadata": {},
   "source": [
    "<div style=\"background-color:#f3f3f3; border:solid #363636 2px; padding: 20px\">    \n",
    "После подбора параметров и обучения моделей рейтинг не изменился. Две модели на данном этапе показывают одинаковый результат по качеству модели, но с ощутимой разницей в скорости обучения модели, считаю что на данном этапе <b>Logistic Regression</b> является оптимальной. Теперь необходимо посмотреть на модель LightGBM\n",
    "</div>"
   ]
  },
  {
   "cell_type": "markdown",
   "id": "6aba6be8",
   "metadata": {},
   "source": [
    "## Модель LightGBM"
   ]
  },
  {
   "cell_type": "markdown",
   "id": "cec3a4a1",
   "metadata": {},
   "source": [
    "<div style=\"background-color:#f3f3f3; border:solid #363636 2px; padding: 20px\">    \n",
    "Отдельно подготовлю модель <b>LGBMClassifier</b>\n",
    "</div>"
   ]
  },
  {
   "cell_type": "code",
   "execution_count": 33,
   "id": "9bd4fb95",
   "metadata": {},
   "outputs": [],
   "source": [
    "lgb_model = LGBMClassifier(random_state = RANDOM)"
   ]
  },
  {
   "cell_type": "code",
   "execution_count": 34,
   "id": "5a537abe",
   "metadata": {},
   "outputs": [],
   "source": [
    "lgb_parameters = {'objective'        : ['binary'],\n",
    "                  'metric'           : ['f1'],\n",
    "                  'boosting_type'    : ['gbdt'],\n",
    "                  'learning_rate'    : [0.1, 0.01],\n",
    "                  'n_estimators'     : [20, 50, 100],\n",
    "                  'max_depth'        : [5, 15, 20],\n",
    "                  'num_iterations'   : [500, 1000, 1500],\n",
    "                  'class_weight'     : ['balanced']}"
   ]
  },
  {
   "cell_type": "code",
   "execution_count": 35,
   "id": "689f31ac",
   "metadata": {},
   "outputs": [
    {
     "name": "stdout",
     "output_type": "stream",
     "text": [
      "Fitting 5 folds for each of 54 candidates, totalling 270 fits\n",
      "Wall time: 7min 34s\n"
     ]
    }
   ],
   "source": [
    "%%time\n",
    "scores = []\n",
    "\n",
    "grid_model = GridSearchCV(estimator  = lgb_model,\n",
    "                          param_grid = lgb_parameters,\n",
    "                          verbose    = 10,\n",
    "                          scoring    = METRIC,\n",
    "                          n_jobs     = -1,\n",
    "                          cv         = 5)\n",
    "                          \n",
    "grid_model.fit(features_train, target_train, categorical_feature = None)   \n",
    "\n",
    "time_score    = grid_model.cv_results_['mean_test_score']\n",
    "mean_fit_time = grid_model.cv_results_['mean_fit_time'][np.where(time_score == time_score.max())[0][0]]\n",
    "\n",
    "scores.append(['LGBM Classifier',\n",
    "               grid_model.best_score_,\n",
    "               mean_fit_time,\n",
    "               grid_model.best_params_])"
   ]
  },
  {
   "cell_type": "code",
   "execution_count": 36,
   "id": "53496f82",
   "metadata": {},
   "outputs": [],
   "source": [
    "scores_lgb = scores"
   ]
  },
  {
   "cell_type": "code",
   "execution_count": 37,
   "id": "eca75570",
   "metadata": {},
   "outputs": [
    {
     "data": {
      "text/plain": [
       "[['LGBM Classifier',\n",
       "  0.9291806439174861,\n",
       "  4.106780910491944,\n",
       "  {'boosting_type': 'gbdt',\n",
       "   'class_weight': 'balanced',\n",
       "   'learning_rate': 0.1,\n",
       "   'max_depth': 5,\n",
       "   'metric': 'f1',\n",
       "   'n_estimators': 20,\n",
       "   'num_iterations': 500,\n",
       "   'objective': 'binary'}]]"
      ]
     },
     "execution_count": 37,
     "metadata": {},
     "output_type": "execute_result"
    }
   ],
   "source": [
    "scores_lgb"
   ]
  },
  {
   "cell_type": "code",
   "execution_count": 38,
   "id": "0d9c4bf2",
   "metadata": {},
   "outputs": [
    {
     "data": {
      "text/html": [
       "<style type=\"text/css\">\n",
       "#T_be336_ td:hover {\n",
       "  background: #9E4447;\n",
       "  color: #ffffff;\n",
       "}\n",
       "#T_be336_ tr:nth-of-type(even) {\n",
       "  background: #D9D9D9;\n",
       "  color: black;\n",
       "}\n",
       "#T_be336_ tr:nth-of-type(odd) {\n",
       "  background: #ffffff;\n",
       "  color: #363636;\n",
       "}\n",
       "#T_be336_ th {\n",
       "  background: #363636;\n",
       "  color: #ffffff;\n",
       "  text-align: center;\n",
       "}\n",
       "#T_be336_ tr:hover {\n",
       "  background: #808080;\n",
       "  color: #ffffff;\n",
       "}\n",
       "#T_be336_ td {\n",
       "  border: 1px dashed #363636;\n",
       "}\n",
       "#T_be336_  {\n",
       "  border: 2px solid #363636;\n",
       "}\n",
       "#T_be336_ caption {\n",
       "  color: #363636;\n",
       "  font-size: 15px;\n",
       "}\n",
       "</style>\n",
       "<table id=\"T_be336_\">\n",
       "  <caption>Результаты поиска лучшей модели LightGBM с подбором гиперпараметров</caption>\n",
       "  <thead>\n",
       "    <tr>\n",
       "      <th class=\"blank level0\" >&nbsp;</th>\n",
       "      <th class=\"col_heading level0 col0\" >model</th>\n",
       "      <th class=\"col_heading level0 col1\" >f1</th>\n",
       "      <th class=\"col_heading level0 col2\" >mean_fit_time</th>\n",
       "      <th class=\"col_heading level0 col3\" >parameters</th>\n",
       "    </tr>\n",
       "  </thead>\n",
       "  <tbody>\n",
       "    <tr>\n",
       "      <th id=\"T_be336_level0_row0\" class=\"row_heading level0 row0\" >0</th>\n",
       "      <td id=\"T_be336_row0_col0\" class=\"data row0 col0\" >LGBM Classifier</td>\n",
       "      <td id=\"T_be336_row0_col1\" class=\"data row0 col1\" >0.93</td>\n",
       "      <td id=\"T_be336_row0_col2\" class=\"data row0 col2\" >4.11s</td>\n",
       "      <td id=\"T_be336_row0_col3\" class=\"data row0 col3\" >{'boosting_type': 'gbdt', 'class_weight': 'balanced', 'learning_rate': 0.1, 'max_depth': 5, 'metric': 'f1', 'n_estimators': 20, 'num_iterations': 500, 'objective': 'binary'}</td>\n",
       "    </tr>\n",
       "  </tbody>\n",
       "</table>\n"
      ],
      "text/plain": [
       "<pandas.io.formats.style.Styler at 0x1dfe5123e80>"
      ]
     },
     "execution_count": 38,
     "metadata": {},
     "output_type": "execute_result"
    }
   ],
   "source": [
    "pd.DataFrame(data    = scores_lgb, \n",
    "             columns = ['model', 'f1', 'mean_fit_time', 'parameters'])\\\n",
    "            .reset_index(drop = True)\\\n",
    "            .style\\\n",
    "            .format({'f1':'{:.2f}', 'mean_fit_time' : '{:,.2f}s'})\\\n",
    "            .set_caption(f'Результаты поиска лучшей модели LightGBM с подбором гиперпараметров',)\\\n",
    "            .set_table_styles(styler)"
   ]
  },
  {
   "cell_type": "markdown",
   "id": "6cf28d66",
   "metadata": {},
   "source": [
    "<div style=\"background-color:#f3f3f3; border:solid #363636 2px; padding: 20px\">    \n",
    "Модель <b>LGBMClassifier</b> показала одни из самых худших результатов и по качеству модели, и по скорости работы алгоритма. Посмотрим на результаты всех этапов, сделаем выводы и выберем лучшую модель для тестирования\n",
    "</div>"
   ]
  },
  {
   "cell_type": "code",
   "execution_count": 39,
   "id": "9a35e77e",
   "metadata": {},
   "outputs": [],
   "source": [
    "data_info = pd.DataFrame(data = np.array(scores_base)[:,:3], \n",
    "                          columns = ['model', 'f1_base', 'time_base']) \\\n",
    "                                                                         \\\n",
    "                                .append(pd.DataFrame(data = np.array(scores_lgb)[:,:3],\n",
    "                                                     columns = ['model', 'f1_base', 'time_base'])) \\\n",
    "                                                                                                     \\\n",
    "                                .merge(pd.DataFrame( data = np.array(scores_param)[:,:3], \n",
    "                                                     columns = ['model', 'f1_param', 'time_param']) \\\n",
    "                                                                                                      \\\n",
    "                                                .append(pd.DataFrame(data = np.array(scores_lgb)[:,:3], \n",
    "                                                     columns = ['model', 'f1_param', 'time_param'])), \n",
    "                                                                   on = 'model', \n",
    "                                                                   how = 'outer')\n",
    "\n",
    "data_info.loc[4][['f1_base', 'time_base']] = 0"
   ]
  },
  {
   "cell_type": "code",
   "execution_count": 40,
   "id": "0ff3f18a",
   "metadata": {},
   "outputs": [
    {
     "data": {
      "text/html": [
       "<style type=\"text/css\">\n",
       "#T_f5ebd_ td:hover {\n",
       "  background: #9E4447;\n",
       "  color: #ffffff;\n",
       "}\n",
       "#T_f5ebd_ tr:nth-of-type(even) {\n",
       "  background: #D9D9D9;\n",
       "  color: black;\n",
       "}\n",
       "#T_f5ebd_ tr:nth-of-type(odd) {\n",
       "  background: #ffffff;\n",
       "  color: #363636;\n",
       "}\n",
       "#T_f5ebd_ th {\n",
       "  background: #363636;\n",
       "  color: #ffffff;\n",
       "  text-align: center;\n",
       "}\n",
       "#T_f5ebd_ tr:hover {\n",
       "  background: #808080;\n",
       "  color: #ffffff;\n",
       "}\n",
       "#T_f5ebd_ td {\n",
       "  border: 1px dashed #363636;\n",
       "}\n",
       "#T_f5ebd_  {\n",
       "  border: 2px solid #363636;\n",
       "}\n",
       "#T_f5ebd_ caption {\n",
       "  color: #363636;\n",
       "  font-size: 15px;\n",
       "}\n",
       "</style>\n",
       "<table id=\"T_f5ebd_\">\n",
       "  <caption>Результаты этапов обучения моделей</caption>\n",
       "  <thead>\n",
       "    <tr>\n",
       "      <th class=\"blank level0\" >&nbsp;</th>\n",
       "      <th class=\"col_heading level0 col0\" >model</th>\n",
       "      <th class=\"col_heading level0 col1\" >f1_base</th>\n",
       "      <th class=\"col_heading level0 col2\" >time_base</th>\n",
       "      <th class=\"col_heading level0 col3\" >f1_param</th>\n",
       "      <th class=\"col_heading level0 col4\" >time_param</th>\n",
       "    </tr>\n",
       "  </thead>\n",
       "  <tbody>\n",
       "    <tr>\n",
       "      <th id=\"T_f5ebd_level0_row0\" class=\"row_heading level0 row0\" >0</th>\n",
       "      <td id=\"T_f5ebd_row0_col0\" class=\"data row0 col0\" >LGBM Classifier</td>\n",
       "      <td id=\"T_f5ebd_row0_col1\" class=\"data row0 col1\" >0.00</td>\n",
       "      <td id=\"T_f5ebd_row0_col2\" class=\"data row0 col2\" >0.00s</td>\n",
       "      <td id=\"T_f5ebd_row0_col3\" class=\"data row0 col3\" >0.93</td>\n",
       "      <td id=\"T_f5ebd_row0_col4\" class=\"data row0 col4\" >4.11s</td>\n",
       "    </tr>\n",
       "    <tr>\n",
       "      <th id=\"T_f5ebd_level0_row1\" class=\"row_heading level0 row1\" >1</th>\n",
       "      <td id=\"T_f5ebd_row1_col0\" class=\"data row1 col0\" >Random Forest Classifier</td>\n",
       "      <td id=\"T_f5ebd_row1_col1\" class=\"data row1 col1\" >0.90</td>\n",
       "      <td id=\"T_f5ebd_row1_col2\" class=\"data row1 col2\" >0.30s</td>\n",
       "      <td id=\"T_f5ebd_row1_col3\" class=\"data row1 col3\" >0.92</td>\n",
       "      <td id=\"T_f5ebd_row1_col4\" class=\"data row1 col4\" >3.19s</td>\n",
       "    </tr>\n",
       "    <tr>\n",
       "      <th id=\"T_f5ebd_level0_row2\" class=\"row_heading level0 row2\" >2</th>\n",
       "      <td id=\"T_f5ebd_row2_col0\" class=\"data row2 col0\" >Linear S V C</td>\n",
       "      <td id=\"T_f5ebd_row2_col1\" class=\"data row2 col1\" >0.90</td>\n",
       "      <td id=\"T_f5ebd_row2_col2\" class=\"data row2 col2\" >0.04s</td>\n",
       "      <td id=\"T_f5ebd_row2_col3\" class=\"data row2 col3\" >0.91</td>\n",
       "      <td id=\"T_f5ebd_row2_col4\" class=\"data row2 col4\" >0.06s</td>\n",
       "    </tr>\n",
       "    <tr>\n",
       "      <th id=\"T_f5ebd_level0_row3\" class=\"row_heading level0 row3\" >3</th>\n",
       "      <td id=\"T_f5ebd_row3_col0\" class=\"data row3 col0\" >Decision Tree Classifier</td>\n",
       "      <td id=\"T_f5ebd_row3_col1\" class=\"data row3 col1\" >0.85</td>\n",
       "      <td id=\"T_f5ebd_row3_col2\" class=\"data row3 col2\" >0.07s</td>\n",
       "      <td id=\"T_f5ebd_row3_col3\" class=\"data row3 col3\" >0.90</td>\n",
       "      <td id=\"T_f5ebd_row3_col4\" class=\"data row3 col4\" >0.00s</td>\n",
       "    </tr>\n",
       "    <tr>\n",
       "      <th id=\"T_f5ebd_level0_row4\" class=\"row_heading level0 row4\" >4</th>\n",
       "      <td id=\"T_f5ebd_row4_col0\" class=\"data row4 col0\" >Logistic Regression</td>\n",
       "      <td id=\"T_f5ebd_row4_col1\" class=\"data row4 col1\" >0.90</td>\n",
       "      <td id=\"T_f5ebd_row4_col2\" class=\"data row4 col2\" >0.06s</td>\n",
       "      <td id=\"T_f5ebd_row4_col3\" class=\"data row4 col3\" >0.90</td>\n",
       "      <td id=\"T_f5ebd_row4_col4\" class=\"data row4 col4\" >0.18s</td>\n",
       "    </tr>\n",
       "  </tbody>\n",
       "</table>\n"
      ],
      "text/plain": [
       "<pandas.io.formats.style.Styler at 0x1dfe8cc72b0>"
      ]
     },
     "execution_count": 40,
     "metadata": {},
     "output_type": "execute_result"
    }
   ],
   "source": [
    "data_info.sort_values(['f1_param', 'time_param'], ascending = [False, True]).reset_index(drop = True) \\\n",
    "                                .style\\\n",
    "                                .format({'f1_base':'{:.2f}', \n",
    "                                         'time_base' : '{:,.2f}s',\n",
    "                                         'f1_param':'{:.2f}', \n",
    "                                         'time_param' : '{:,.2f}s'})\\\n",
    "                                .set_caption(f'Результаты этапов обучения моделей',)\\\n",
    "                                .set_table_styles(styler)"
   ]
  },
  {
   "cell_type": "markdown",
   "id": "6cdd5de9",
   "metadata": {},
   "source": [
    "<div style=\"background-color:gray; border:solid #363636 2px; padding: 20px\">    \n",
    "<span style=\"color:white\"><b>Выводы:</b></span><br>\n",
    "<span style=\"color:white\">    \n",
    "Как видно из сводных данных выше, лучшие показатели по качеству предсказания показывает модель <b>Logistic Regression</b>, и один из лучших показателей по скорости работы алгоритма. На данном этапе мы определяем лучшую модель по критериям время/качество <b>Logistic Regression</b>. Модель <b>Random Forest Classifier</b> тоже перенесу на следующий, чтобы посмотреть как она ведет себя на тестовых данных, но уже не в рамках подготовки модели для данного проекта, так как данная модель показала результаты аналогичные выбранной модели уступая ей только в скорости работы.\n",
    "</span>\n",
    "</div>"
   ]
  },
  {
   "cell_type": "markdown",
   "id": "6ed1d2cc",
   "metadata": {},
   "source": [
    "# Тестирование лучшей модели"
   ]
  },
  {
   "cell_type": "markdown",
   "id": "47394f05",
   "metadata": {},
   "source": [
    "<div style=\"background-color:#f3f3f3; border:solid #363636 2px; padding: 20px\">    \n",
    "Тестирование модели буду проводить на тестовой выборке для выбранной модели на предыдущем этапе\n",
    "</div>"
   ]
  },
  {
   "cell_type": "markdown",
   "id": "5e2e26f5",
   "metadata": {},
   "source": [
    "## Тестирование модели Logistic Regression"
   ]
  },
  {
   "cell_type": "code",
   "execution_count": null,
   "id": "545830b6",
   "metadata": {},
   "outputs": [],
   "source": [
    "final_model_LR = LogisticRegression(**scores_param[0][3])"
   ]
  },
  {
   "cell_type": "code",
   "execution_count": null,
   "id": "ddb4c28d",
   "metadata": {},
   "outputs": [],
   "source": [
    "%%time\n",
    "start = time()        \n",
    "final_model_LR.fit(features_train, target_train)     \n",
    "train_time_LR = time() - start "
   ]
  },
  {
   "cell_type": "code",
   "execution_count": null,
   "id": "8b69eba9",
   "metadata": {},
   "outputs": [],
   "source": [
    "final_pred_LR  = final_model_LR.predict(features_test)\n",
    "final_score_LR = f1_score(target_test, final_pred_LR)"
   ]
  },
  {
   "cell_type": "code",
   "execution_count": null,
   "id": "2d1c598d",
   "metadata": {},
   "outputs": [],
   "source": [
    "final_prob_score_LR = final_model_LR.predict_proba(features_test)[:,1]"
   ]
  },
  {
   "cell_type": "code",
   "execution_count": null,
   "id": "35adbef7",
   "metadata": {},
   "outputs": [],
   "source": [
    "final_score_LR"
   ]
  },
  {
   "cell_type": "markdown",
   "id": "ef0204b0",
   "metadata": {},
   "source": [
    "## Random Forest Classifier"
   ]
  },
  {
   "cell_type": "markdown",
   "id": "dfece15e",
   "metadata": {},
   "source": [
    "<div style=\"background-color:#f3f3f3; border:solid #363636 2px; padding: 20px\">    \n",
    "Тестирование модели вне проектного выбора\n",
    "</div>"
   ]
  },
  {
   "cell_type": "code",
   "execution_count": null,
   "id": "8e5e78d3",
   "metadata": {},
   "outputs": [],
   "source": [
    "final_model_RFC = RandomForestClassifier(**scores_param[1][3])"
   ]
  },
  {
   "cell_type": "code",
   "execution_count": null,
   "id": "82b98027",
   "metadata": {
    "scrolled": true
   },
   "outputs": [],
   "source": [
    "%%time\n",
    "start = time()        \n",
    "final_model_RFC.fit(features_train, target_train)     \n",
    "train_time_RFC = time() - start "
   ]
  },
  {
   "cell_type": "code",
   "execution_count": null,
   "id": "92669350",
   "metadata": {},
   "outputs": [],
   "source": [
    "final_pred_RFC  = final_model_RFC.predict(features_test)"
   ]
  },
  {
   "cell_type": "code",
   "execution_count": null,
   "id": "9f28f669",
   "metadata": {},
   "outputs": [],
   "source": [
    "final_score_RFC = f1_score(target_test, final_pred_RFC)"
   ]
  },
  {
   "cell_type": "code",
   "execution_count": null,
   "id": "f3494a60",
   "metadata": {},
   "outputs": [],
   "source": [
    "final_score_RFC"
   ]
  },
  {
   "cell_type": "markdown",
   "id": "622fe9b1",
   "metadata": {},
   "source": [
    "<div style=\"background-color:#f3f3f3; border:solid #363636 2px; padding: 20px\">    \n",
    "И так все этапы пройдены, необходимо посмотреть на результаты всех расчетов\n",
    "</div>"
   ]
  },
  {
   "cell_type": "code",
   "execution_count": null,
   "id": "81ef1f0d",
   "metadata": {},
   "outputs": [],
   "source": [
    "final_scores = [['Logistic Regression', final_score_LR, train_time_LR],\n",
    "                ['Random Forest Classifier', final_score_RFC, train_time_RFC,]]"
   ]
  },
  {
   "cell_type": "code",
   "execution_count": null,
   "id": "647d3344",
   "metadata": {
    "scrolled": true
   },
   "outputs": [],
   "source": [
    "data_info \\\n",
    "    .merge(pd.DataFrame(final_scores, columns = ['model', 'f1_final', 'time_final']),\n",
    "                           on = 'model', how = 'outer') \\\n",
    "                            .sort_values(['f1_final', 'time_final'], ascending = [False, True]).reset_index(drop = True) \\\n",
    "                            .fillna(0).style\\\n",
    "                            .format({'f1_base'  : '{:.2f}', \n",
    "                                     'time_base'  : '{:,.2f}s',\n",
    "                                     'f1_param' : '{:.2f}', \n",
    "                                     'time_param' : '{:,.2f}s',\n",
    "                                     'f1_final' : '{:.2f}',\n",
    "                                     'time_final' : '{:.2f}s'})\\\n",
    "                            .set_caption(f'Финальные результаты обучения моделей',)\\\n",
    "                            .set_table_styles(styler)"
   ]
  },
  {
   "cell_type": "markdown",
   "id": "386cac03",
   "metadata": {},
   "source": [
    "<div style=\"background-color:#f3f3f3; border:solid #363636 2px; padding: 20px\">    \n",
    "В сводной таблице представлены данные за все пройденные этапы, как уже было сказано ранее была выбрана модель <b>Logistic Regression</b>, которая показала результат на тестовой выборке выше чем было требование заказчика по качеству модели, модель имеет качество метрики <b>0,92</b> можно сказать что задание выполнено. На тестовой выборке она проиграла модели <b>Random Forest Classifier</b> в качестве метрики, но в реальных задачач мы могли об этом не узнать не имея тестовой выборки. Далее хотелось бы визуально представить результаты предсказания модели и оценить ее качественные характеристики\n",
    "</div>"
   ]
  },
  {
   "cell_type": "markdown",
   "id": "a154efdb",
   "metadata": {},
   "source": [
    "## Результаты предсказания модели"
   ]
  },
  {
   "cell_type": "code",
   "execution_count": null,
   "id": "356da97d",
   "metadata": {
    "scrolled": true
   },
   "outputs": [],
   "source": [
    "matrix = confusion_matrix(target_test, final_pred_LR)\n",
    "disp = ConfusionMatrixDisplay(confusion_matrix = matrix, display_labels = ['Untoxic', 'Toxic'])\n",
    "\n",
    "disp.plot(cmap = 'bone')\n",
    "plt.grid(False)\n",
    "plt.xlabel('')\n",
    "plt.ylabel('')\n",
    "plt.title('Confusion Matrix', fontsize = 14)\n",
    "plt.xticks(fontsize = 14)\n",
    "plt.yticks(fontsize = 14)\n",
    "plt.show()"
   ]
  },
  {
   "cell_type": "markdown",
   "id": "9bdfbf76",
   "metadata": {},
   "source": [
    "<div style=\"background-color:#f3f3f3; border:solid #363636 2px; padding: 20px\">    \n",
    "В таблице представлены результаты предсказания модели, как видно модель отлично справляется с поставленной задачей, ошибок минимальное количество.<br><br>    \n",
    "Посмотрим теперь на ROC-кривую модели\n",
    "</div>"
   ]
  },
  {
   "cell_type": "code",
   "execution_count": null,
   "id": "f77c17d4",
   "metadata": {
    "scrolled": false
   },
   "outputs": [],
   "source": [
    "tn, fp, fn, tp = confusion_matrix(target_test, final_pred_LR).ravel()\n",
    "TPR = tp / (tp + fn)\n",
    "FPR = fp / (fp + tn)\n",
    "\n",
    "fpr, tpr, treshold = roc_curve(target_test, final_prob_score_LR)\n",
    "\n",
    "roc_auc = auc(fpr, tpr)\n",
    "\n",
    "plt.figure(figsize = (7, 7))\n",
    "plt.scatter(FPR, TPR, color = '#363636', linewidth = 3)\n",
    "plt.vlines(FPR, 0, TPR, linestyles = 'dashed', colors = '#363636', linewidth = 3)\n",
    "plt.hlines(TPR, -0.05, FPR, linestyles = 'dashed', colors = '#363636', linewidth = 3)\n",
    "plt.annotate(\"Best Model\", \n",
    "             xy = (FPR, TPR), \n",
    "             xytext = (0.35, 0.7),\n",
    "             arrowprops = dict(facecolor = '#363636'), \n",
    "             fontsize = 14)\n",
    "plt.plot(fpr, tpr, color = '#9E4447', label = f'ROC кривая (area = {roc_auc:.3f})', linewidth = 3)\n",
    "plt.plot([0, 1], [0, 1], color = '#808080', linestyle = 'dotted', linewidth = 3)\n",
    "plt.xlim([-0.05, 1.0])\n",
    "plt.ylim([0.0, 1.05])\n",
    "plt.xlabel('False Positive Rate', fontsize = 14)\n",
    "plt.ylabel('True Positive Rate', fontsize = 14)\n",
    "plt.title('ROC-кривая', fontsize = 16)\n",
    "plt.legend(loc = \"lower right\", fontsize = 12)\n",
    "plt.grid(True)\n",
    "plt.show()\n",
    "print(f'TPR модели = {TPR:.2f} False Positive Rate \\nFPR модели = {FPR:.2f} True  Positive Rate')"
   ]
  },
  {
   "cell_type": "markdown",
   "id": "351ac28c",
   "metadata": {},
   "source": [
    "<div style=\"background-color:#f3f3f3; border:solid #363636 2px; padding: 20px\">    \n",
    "    \n",
    "Отличная метрика модели, которая отображает истинную и постоянную способность модели к прогнозированию, т.е. при изменении тестового набора данных, модель не показала качественно другой результат. Это не лучший результат для модели классификации где показатель, но он превышает качественный порог для метрики <b>AUC > 0.9</b>, что для решения данной задачи является хорошим результатом. Модель готова для использования в определении тональности текста. Качественные показатели, характеризующие эту модель <b>f1_score</b> как среднее гармоническое полноты и точности, возможно не совсем показательны в демонстрации качества модели, для этого в выводах так же фигурирует метрика <b>AUC-ROC</b>, которая формируется из показателей <b>False Positive Rate</b> и <b>True Positive Rate</b>. Которые уже более наглядно указывают на качество модели, где <b>TPR</b> (показывает, насколько правильно классификатор находит объекты) и его доля верно предсказанных объектов к общему числу объектов класса = <b>92%</b>. Доля ложных предсказаний к общему числу объектов за пределами класса показывает метрика <b>FPR</b> (показывает, насколько классификатор ошибается в предсказании объектов) и здесь показатель его = 1%\n",
    "</div>"
   ]
  },
  {
   "cell_type": "markdown",
   "id": "21f45872",
   "metadata": {},
   "source": [
    "## Проверка на адекватность"
   ]
  },
  {
   "cell_type": "markdown",
   "id": "00e64e7b",
   "metadata": {},
   "source": [
    "<div style=\"background-color:#f3f3f3; border:solid #363636 2px; padding: 20px\">    \n",
    "Окончательно проверю модель на адекватность с помощю <b>Dummy Classifier</b>\n",
    "</div>"
   ]
  },
  {
   "cell_type": "code",
   "execution_count": null,
   "id": "c9993d77",
   "metadata": {},
   "outputs": [],
   "source": [
    "dummy_model  = DummyClassifier()\n",
    "\n",
    "dummy_model.fit(features_train, target_train) \n",
    "\n",
    "dummy_pred   = dummy_model.predict(features_test)\n",
    "dummy_result = f1_score(target_test, dummy_pred)\n",
    "\n",
    "print(f'показатель RMSE на модели Dummy Classifier: {dummy_result:.2f}')"
   ]
  },
  {
   "cell_type": "markdown",
   "id": "b65acda7",
   "metadata": {},
   "source": [
    "<div style=\"background-color:#f3f3f3; border:solid #363636 2px; padding: 20px\">    \n",
    "Показатель <b>F1_SCORE</b> на модели <b>Dummy Classifier</b>, равны 0, значит вероятность того что наша выбранная модель недоучилась исключается\n",
    "</div>"
   ]
  },
  {
   "cell_type": "markdown",
   "id": "f98cdc88",
   "metadata": {},
   "source": [
    "# Выводы"
   ]
  },
  {
   "cell_type": "markdown",
   "id": "1c02e6f1",
   "metadata": {},
   "source": [
    "<div style=\"background-color:#424B54; border:solid #373d43 2px; padding: 20px\">    \n",
    "<span style=\"color:#EBEBEB\"><b>Выводы:</b></span><br><br>   \n",
    "<span style=\"color:#EBEBEB\">    \n",
    "<li>Предоставленные данные были проанализированы и подготовлены, для дальнейшей работы. Решение классификации было выполнено на выборке в 1000 строк. Предобработка данных произведена: токенизация и эмбеддинг;    \n",
    "<li>Задача по подбору модели была выполнена, для этого в несколько этапов была произведена подготовка и проверка моделей на представленных данных, в итоге выбор был сделан в пользу модели <b>Logistic Regression</b> , которая с самого начала лучше всех демонстрировала результаты по скорости обучения, и показатели качества модели, в конечном итоге можно с уверенностью констатировать тот факт что эта модель имеет лучшие характеристики скорость/качество с показателями <b>F1 SCORE = 0.92.</b><br><br>    \n",
    "<span style=\"color:#EBEBEB\"><b>Итог выбора:</b></span><br><br>    \n",
    "Лучшая модель Logistic Regression с параметрами:<br>\n",
    "<li>class_weight : balanced;\n",
    "<li>solver       : newton-cg\n",
    "</span>\n",
    "</div>"
   ]
  },
  {
   "cell_type": "code",
   "execution_count": null,
   "id": "8135e2bb",
   "metadata": {},
   "outputs": [],
   "source": []
  }
 ],
 "metadata": {
  "ExecuteTimeLog": [
   {
    "duration": 4528,
    "start_time": "2022-10-22T20:36:59.385Z"
   },
   {
    "duration": 2774,
    "start_time": "2022-10-22T20:38:11.761Z"
   },
   {
    "duration": 1119,
    "start_time": "2022-10-22T20:38:22.760Z"
   },
   {
    "duration": 4394,
    "start_time": "2022-10-22T20:38:42.257Z"
   },
   {
    "duration": 6,
    "start_time": "2022-10-22T20:41:45.104Z"
   },
   {
    "duration": 13,
    "start_time": "2022-10-22T20:41:45.113Z"
   },
   {
    "duration": 13875,
    "start_time": "2022-10-22T20:41:45.128Z"
   },
   {
    "duration": 2403,
    "start_time": "2022-10-22T20:41:59.005Z"
   },
   {
    "duration": 27,
    "start_time": "2022-10-22T20:42:01.410Z"
   },
   {
    "duration": 6,
    "start_time": "2022-10-22T20:42:01.439Z"
   },
   {
    "duration": 92,
    "start_time": "2022-10-22T20:42:01.447Z"
   },
   {
    "duration": 236,
    "start_time": "2022-10-22T20:42:01.541Z"
   },
   {
    "duration": 6,
    "start_time": "2022-10-22T20:42:01.778Z"
   },
   {
    "duration": 7,
    "start_time": "2022-10-22T20:42:01.785Z"
   },
   {
    "duration": 6725,
    "start_time": "2022-10-22T20:42:01.794Z"
   },
   {
    "duration": 4,
    "start_time": "2022-10-22T20:42:08.520Z"
   },
   {
    "duration": 361,
    "start_time": "2022-10-22T20:42:08.525Z"
   },
   {
    "duration": 4568,
    "start_time": "2022-10-22T20:45:22.772Z"
   },
   {
    "duration": 5,
    "start_time": "2022-10-22T20:52:16.955Z"
   },
   {
    "duration": 11,
    "start_time": "2022-10-22T20:52:16.962Z"
   },
   {
    "duration": 6142,
    "start_time": "2022-10-22T20:52:16.974Z"
   },
   {
    "duration": 750,
    "start_time": "2022-10-22T20:52:23.117Z"
   },
   {
    "duration": 23,
    "start_time": "2022-10-22T20:52:23.869Z"
   },
   {
    "duration": 16,
    "start_time": "2022-10-22T20:52:23.893Z"
   },
   {
    "duration": 75,
    "start_time": "2022-10-22T20:52:23.910Z"
   },
   {
    "duration": 228,
    "start_time": "2022-10-22T20:52:23.987Z"
   },
   {
    "duration": 5,
    "start_time": "2022-10-22T20:52:24.217Z"
   },
   {
    "duration": 6,
    "start_time": "2022-10-22T20:52:24.224Z"
   },
   {
    "duration": 5566,
    "start_time": "2022-10-22T20:52:24.232Z"
   },
   {
    "duration": 4,
    "start_time": "2022-10-22T20:52:29.799Z"
   },
   {
    "duration": 4418,
    "start_time": "2022-10-22T20:52:29.804Z"
   },
   {
    "duration": 6,
    "start_time": "2022-10-22T20:52:34.224Z"
   },
   {
    "duration": 1202,
    "start_time": "2022-10-22T20:52:34.232Z"
   },
   {
    "duration": 161,
    "start_time": "2022-10-22T20:52:35.435Z"
   },
   {
    "duration": 111,
    "start_time": "2022-10-22T20:52:35.598Z"
   },
   {
    "duration": 4,
    "start_time": "2022-10-22T20:52:35.711Z"
   },
   {
    "duration": 11,
    "start_time": "2022-10-22T20:52:35.716Z"
   },
   {
    "duration": 5,
    "start_time": "2022-10-22T20:52:35.729Z"
   },
   {
    "duration": 40,
    "start_time": "2022-10-22T20:52:35.735Z"
   },
   {
    "duration": 0,
    "start_time": "2022-10-22T20:52:35.776Z"
   },
   {
    "duration": 0,
    "start_time": "2022-10-22T20:52:35.778Z"
   },
   {
    "duration": 0,
    "start_time": "2022-10-22T20:52:35.778Z"
   },
   {
    "duration": 10,
    "start_time": "2022-10-22T20:53:09.299Z"
   },
   {
    "duration": 4313,
    "start_time": "2022-10-22T20:53:09.311Z"
   },
   {
    "duration": 6014,
    "start_time": "2022-10-22T20:53:13.625Z"
   },
   {
    "duration": 779,
    "start_time": "2022-10-22T20:53:19.641Z"
   },
   {
    "duration": 20,
    "start_time": "2022-10-22T20:53:20.421Z"
   },
   {
    "duration": 6,
    "start_time": "2022-10-22T20:53:20.442Z"
   },
   {
    "duration": 88,
    "start_time": "2022-10-22T20:53:20.449Z"
   },
   {
    "duration": 236,
    "start_time": "2022-10-22T20:53:20.539Z"
   },
   {
    "duration": 5,
    "start_time": "2022-10-22T20:53:20.777Z"
   },
   {
    "duration": 7,
    "start_time": "2022-10-22T20:53:20.785Z"
   },
   {
    "duration": 6787,
    "start_time": "2022-10-22T20:53:20.793Z"
   },
   {
    "duration": 4,
    "start_time": "2022-10-22T20:53:27.581Z"
   },
   {
    "duration": 4404,
    "start_time": "2022-10-22T20:53:27.586Z"
   },
   {
    "duration": 6,
    "start_time": "2022-10-22T20:53:31.992Z"
   },
   {
    "duration": 1110,
    "start_time": "2022-10-22T20:53:31.999Z"
   },
   {
    "duration": 156,
    "start_time": "2022-10-22T20:53:33.111Z"
   },
   {
    "duration": 94,
    "start_time": "2022-10-22T20:53:33.269Z"
   },
   {
    "duration": 3,
    "start_time": "2022-10-22T20:53:33.365Z"
   },
   {
    "duration": 31,
    "start_time": "2022-10-22T20:53:33.370Z"
   },
   {
    "duration": 9,
    "start_time": "2022-10-22T20:53:33.402Z"
   },
   {
    "duration": 39,
    "start_time": "2022-10-22T20:53:33.413Z"
   },
   {
    "duration": 0,
    "start_time": "2022-10-22T20:53:33.453Z"
   },
   {
    "duration": 0,
    "start_time": "2022-10-22T20:53:33.454Z"
   },
   {
    "duration": 0,
    "start_time": "2022-10-22T20:53:33.456Z"
   },
   {
    "duration": 0,
    "start_time": "2022-10-22T20:53:33.457Z"
   },
   {
    "duration": 339,
    "start_time": "2022-10-22T20:54:38.817Z"
   },
   {
    "duration": 11,
    "start_time": "2022-10-22T20:55:20.530Z"
   },
   {
    "duration": 4510,
    "start_time": "2022-10-22T20:55:20.542Z"
   },
   {
    "duration": 6252,
    "start_time": "2022-10-22T20:55:25.054Z"
   },
   {
    "duration": 758,
    "start_time": "2022-10-22T20:55:31.308Z"
   },
   {
    "duration": 20,
    "start_time": "2022-10-22T20:55:32.068Z"
   },
   {
    "duration": 6,
    "start_time": "2022-10-22T20:55:32.090Z"
   },
   {
    "duration": 69,
    "start_time": "2022-10-22T20:55:32.109Z"
   },
   {
    "duration": 233,
    "start_time": "2022-10-22T20:55:32.179Z"
   },
   {
    "duration": 5,
    "start_time": "2022-10-22T20:55:32.413Z"
   },
   {
    "duration": 6,
    "start_time": "2022-10-22T20:55:32.420Z"
   },
   {
    "duration": 6722,
    "start_time": "2022-10-22T20:55:32.427Z"
   },
   {
    "duration": 4,
    "start_time": "2022-10-22T20:55:39.151Z"
   },
   {
    "duration": 4406,
    "start_time": "2022-10-22T20:55:39.156Z"
   },
   {
    "duration": 7,
    "start_time": "2022-10-22T20:55:43.563Z"
   },
   {
    "duration": 1158,
    "start_time": "2022-10-22T20:55:43.571Z"
   },
   {
    "duration": 155,
    "start_time": "2022-10-22T20:55:44.730Z"
   },
   {
    "duration": 88,
    "start_time": "2022-10-22T20:55:44.887Z"
   },
   {
    "duration": 3,
    "start_time": "2022-10-22T20:55:44.977Z"
   },
   {
    "duration": 7,
    "start_time": "2022-10-22T20:55:44.982Z"
   },
   {
    "duration": 20,
    "start_time": "2022-10-22T20:55:44.990Z"
   },
   {
    "duration": 460,
    "start_time": "2022-10-22T20:55:45.011Z"
   },
   {
    "duration": 77,
    "start_time": "2022-10-22T20:55:45.473Z"
   },
   {
    "duration": 26,
    "start_time": "2022-10-22T20:55:45.552Z"
   },
   {
    "duration": 66,
    "start_time": "2022-10-22T20:55:45.580Z"
   },
   {
    "duration": 0,
    "start_time": "2022-10-22T20:55:45.648Z"
   },
   {
    "duration": 0,
    "start_time": "2022-10-22T20:55:45.649Z"
   },
   {
    "duration": 11,
    "start_time": "2022-10-22T20:57:07.243Z"
   },
   {
    "duration": 4806,
    "start_time": "2022-10-22T20:57:07.256Z"
   },
   {
    "duration": 12909,
    "start_time": "2022-10-22T20:57:12.063Z"
   },
   {
    "duration": 2249,
    "start_time": "2022-10-22T20:57:24.973Z"
   },
   {
    "duration": 25,
    "start_time": "2022-10-22T20:57:27.224Z"
   },
   {
    "duration": 19,
    "start_time": "2022-10-22T20:57:27.251Z"
   },
   {
    "duration": 82,
    "start_time": "2022-10-22T20:57:27.271Z"
   },
   {
    "duration": 225,
    "start_time": "2022-10-22T20:57:27.354Z"
   },
   {
    "duration": 5,
    "start_time": "2022-10-22T20:57:27.580Z"
   },
   {
    "duration": 15,
    "start_time": "2022-10-22T20:57:27.587Z"
   },
   {
    "duration": 6548,
    "start_time": "2022-10-22T20:57:27.603Z"
   },
   {
    "duration": 4,
    "start_time": "2022-10-22T20:57:34.153Z"
   },
   {
    "duration": 4423,
    "start_time": "2022-10-22T20:57:34.158Z"
   },
   {
    "duration": 6,
    "start_time": "2022-10-22T20:57:38.583Z"
   },
   {
    "duration": 1124,
    "start_time": "2022-10-22T20:57:38.591Z"
   },
   {
    "duration": 166,
    "start_time": "2022-10-22T20:57:39.717Z"
   },
   {
    "duration": 97,
    "start_time": "2022-10-22T20:57:39.885Z"
   },
   {
    "duration": 7,
    "start_time": "2022-10-22T20:57:39.984Z"
   },
   {
    "duration": 16,
    "start_time": "2022-10-22T20:57:39.993Z"
   },
   {
    "duration": 4,
    "start_time": "2022-10-22T20:57:40.010Z"
   },
   {
    "duration": 10,
    "start_time": "2022-10-22T20:58:34.066Z"
   },
   {
    "duration": 4823,
    "start_time": "2022-10-22T20:58:34.078Z"
   },
   {
    "duration": 12853,
    "start_time": "2022-10-22T20:58:38.902Z"
   },
   {
    "duration": 2238,
    "start_time": "2022-10-22T20:58:51.757Z"
   },
   {
    "duration": 23,
    "start_time": "2022-10-22T20:58:53.997Z"
   },
   {
    "duration": 6,
    "start_time": "2022-10-22T20:58:54.021Z"
   },
   {
    "duration": 80,
    "start_time": "2022-10-22T20:58:54.029Z"
   },
   {
    "duration": 221,
    "start_time": "2022-10-22T20:58:54.110Z"
   },
   {
    "duration": 5,
    "start_time": "2022-10-22T20:58:54.333Z"
   },
   {
    "duration": 7,
    "start_time": "2022-10-22T20:58:54.342Z"
   },
   {
    "duration": 6565,
    "start_time": "2022-10-22T20:58:54.350Z"
   },
   {
    "duration": 4,
    "start_time": "2022-10-22T20:59:00.917Z"
   },
   {
    "duration": 4307,
    "start_time": "2022-10-22T20:59:00.922Z"
   },
   {
    "duration": 7,
    "start_time": "2022-10-22T20:59:05.230Z"
   },
   {
    "duration": 1122,
    "start_time": "2022-10-22T20:59:05.239Z"
   },
   {
    "duration": 163,
    "start_time": "2022-10-22T20:59:06.363Z"
   },
   {
    "duration": 101,
    "start_time": "2022-10-22T20:59:06.527Z"
   },
   {
    "duration": 5,
    "start_time": "2022-10-22T20:59:06.629Z"
   },
   {
    "duration": 7,
    "start_time": "2022-10-22T20:59:06.635Z"
   },
   {
    "duration": 5,
    "start_time": "2022-10-22T20:59:06.644Z"
   },
   {
    "duration": 10,
    "start_time": "2022-10-22T21:10:30.211Z"
   },
   {
    "duration": 4749,
    "start_time": "2022-10-22T21:10:30.257Z"
   },
   {
    "duration": 12867,
    "start_time": "2022-10-22T21:10:35.008Z"
   },
   {
    "duration": 2253,
    "start_time": "2022-10-22T21:10:47.876Z"
   },
   {
    "duration": 23,
    "start_time": "2022-10-22T21:10:50.130Z"
   },
   {
    "duration": 9,
    "start_time": "2022-10-22T21:10:50.156Z"
   },
   {
    "duration": 80,
    "start_time": "2022-10-22T21:10:50.167Z"
   },
   {
    "duration": 225,
    "start_time": "2022-10-22T21:10:50.249Z"
   },
   {
    "duration": 5,
    "start_time": "2022-10-22T21:10:50.475Z"
   },
   {
    "duration": 7,
    "start_time": "2022-10-22T21:10:50.481Z"
   },
   {
    "duration": 6604,
    "start_time": "2022-10-22T21:10:50.489Z"
   },
   {
    "duration": 4,
    "start_time": "2022-10-22T21:10:57.094Z"
   },
   {
    "duration": 4397,
    "start_time": "2022-10-22T21:10:57.101Z"
   },
   {
    "duration": 13,
    "start_time": "2022-10-22T21:11:01.500Z"
   },
   {
    "duration": 1146,
    "start_time": "2022-10-22T21:11:01.515Z"
   },
   {
    "duration": 157,
    "start_time": "2022-10-22T21:11:02.662Z"
   },
   {
    "duration": 92,
    "start_time": "2022-10-22T21:11:02.820Z"
   },
   {
    "duration": 8,
    "start_time": "2022-10-22T21:11:02.915Z"
   },
   {
    "duration": 4,
    "start_time": "2022-10-22T21:11:02.925Z"
   },
   {
    "duration": 5,
    "start_time": "2022-10-22T21:11:02.931Z"
   },
   {
    "duration": 12,
    "start_time": "2022-10-22T21:16:40.654Z"
   },
   {
    "duration": 4609,
    "start_time": "2022-10-22T21:16:40.668Z"
   },
   {
    "duration": 12753,
    "start_time": "2022-10-22T21:16:45.279Z"
   },
   {
    "duration": 2293,
    "start_time": "2022-10-22T21:16:58.034Z"
   },
   {
    "duration": 25,
    "start_time": "2022-10-22T21:17:00.329Z"
   },
   {
    "duration": 6,
    "start_time": "2022-10-22T21:17:00.355Z"
   },
   {
    "duration": 88,
    "start_time": "2022-10-22T21:17:00.362Z"
   },
   {
    "duration": 228,
    "start_time": "2022-10-22T21:17:00.451Z"
   },
   {
    "duration": 5,
    "start_time": "2022-10-22T21:17:00.680Z"
   },
   {
    "duration": 18,
    "start_time": "2022-10-22T21:17:00.687Z"
   },
   {
    "duration": 6583,
    "start_time": "2022-10-22T21:17:00.707Z"
   },
   {
    "duration": 5,
    "start_time": "2022-10-22T21:17:07.292Z"
   },
   {
    "duration": 4371,
    "start_time": "2022-10-22T21:17:07.299Z"
   },
   {
    "duration": 8,
    "start_time": "2022-10-22T21:17:11.673Z"
   },
   {
    "duration": 1117,
    "start_time": "2022-10-22T21:17:11.682Z"
   },
   {
    "duration": 149,
    "start_time": "2022-10-22T21:17:12.800Z"
   },
   {
    "duration": 91,
    "start_time": "2022-10-22T21:17:12.950Z"
   },
   {
    "duration": 9,
    "start_time": "2022-10-22T21:17:13.043Z"
   },
   {
    "duration": 4,
    "start_time": "2022-10-22T21:17:13.054Z"
   },
   {
    "duration": 4,
    "start_time": "2022-10-22T21:17:13.060Z"
   },
   {
    "duration": 109151,
    "start_time": "2022-10-22T21:17:13.065Z"
   },
   {
    "duration": 47,
    "start_time": "2022-10-22T21:19:02.218Z"
   },
   {
    "duration": 31,
    "start_time": "2022-10-22T21:19:02.266Z"
   },
   {
    "duration": 4,
    "start_time": "2022-10-22T21:19:02.298Z"
   },
   {
    "duration": 34,
    "start_time": "2022-10-22T21:19:02.303Z"
   },
   {
    "duration": 0,
    "start_time": "2022-10-22T21:19:02.340Z"
   },
   {
    "duration": 0,
    "start_time": "2022-10-22T21:19:02.341Z"
   },
   {
    "duration": 0,
    "start_time": "2022-10-22T21:19:02.342Z"
   },
   {
    "duration": 0,
    "start_time": "2022-10-22T21:19:02.343Z"
   },
   {
    "duration": 0,
    "start_time": "2022-10-22T21:19:02.345Z"
   },
   {
    "duration": 0,
    "start_time": "2022-10-22T21:19:02.346Z"
   },
   {
    "duration": 0,
    "start_time": "2022-10-22T21:19:02.347Z"
   },
   {
    "duration": 0,
    "start_time": "2022-10-22T21:19:02.347Z"
   },
   {
    "duration": 0,
    "start_time": "2022-10-22T21:19:02.348Z"
   },
   {
    "duration": 0,
    "start_time": "2022-10-22T21:19:02.349Z"
   },
   {
    "duration": 0,
    "start_time": "2022-10-22T21:19:02.350Z"
   },
   {
    "duration": 0,
    "start_time": "2022-10-22T21:19:02.351Z"
   },
   {
    "duration": 0,
    "start_time": "2022-10-22T21:19:02.352Z"
   },
   {
    "duration": 0,
    "start_time": "2022-10-22T21:19:02.353Z"
   },
   {
    "duration": 0,
    "start_time": "2022-10-22T21:19:02.354Z"
   },
   {
    "duration": 0,
    "start_time": "2022-10-22T21:19:02.355Z"
   },
   {
    "duration": 0,
    "start_time": "2022-10-22T21:19:02.356Z"
   },
   {
    "duration": 0,
    "start_time": "2022-10-22T21:19:02.357Z"
   },
   {
    "duration": 0,
    "start_time": "2022-10-22T21:19:02.358Z"
   },
   {
    "duration": 0,
    "start_time": "2022-10-22T21:19:02.359Z"
   },
   {
    "duration": 0,
    "start_time": "2022-10-22T21:19:02.360Z"
   },
   {
    "duration": 0,
    "start_time": "2022-10-22T21:19:02.361Z"
   },
   {
    "duration": 0,
    "start_time": "2022-10-22T21:19:02.362Z"
   },
   {
    "duration": 0,
    "start_time": "2022-10-22T21:19:02.363Z"
   },
   {
    "duration": 0,
    "start_time": "2022-10-22T21:19:02.364Z"
   },
   {
    "duration": 0,
    "start_time": "2022-10-22T21:19:02.365Z"
   },
   {
    "duration": 0,
    "start_time": "2022-10-22T21:19:02.366Z"
   },
   {
    "duration": 0,
    "start_time": "2022-10-22T21:19:02.367Z"
   },
   {
    "duration": 10,
    "start_time": "2022-10-22T21:19:35.406Z"
   },
   {
    "duration": 4750,
    "start_time": "2022-10-22T21:19:35.418Z"
   },
   {
    "duration": 10647,
    "start_time": "2022-10-22T21:19:40.169Z"
   },
   {
    "duration": 795,
    "start_time": "2022-10-22T21:19:50.817Z"
   },
   {
    "duration": 20,
    "start_time": "2022-10-22T21:19:51.614Z"
   },
   {
    "duration": 7,
    "start_time": "2022-10-22T21:19:51.635Z"
   },
   {
    "duration": 96,
    "start_time": "2022-10-22T21:19:51.644Z"
   },
   {
    "duration": 229,
    "start_time": "2022-10-22T21:19:51.742Z"
   },
   {
    "duration": 5,
    "start_time": "2022-10-22T21:19:51.973Z"
   },
   {
    "duration": 6,
    "start_time": "2022-10-22T21:19:51.981Z"
   },
   {
    "duration": 6620,
    "start_time": "2022-10-22T21:19:51.988Z"
   },
   {
    "duration": 4,
    "start_time": "2022-10-22T21:19:58.610Z"
   },
   {
    "duration": 4332,
    "start_time": "2022-10-22T21:19:58.615Z"
   },
   {
    "duration": 6,
    "start_time": "2022-10-22T21:20:02.949Z"
   },
   {
    "duration": 1108,
    "start_time": "2022-10-22T21:20:02.956Z"
   },
   {
    "duration": 160,
    "start_time": "2022-10-22T21:20:04.065Z"
   },
   {
    "duration": 84,
    "start_time": "2022-10-22T21:20:04.226Z"
   },
   {
    "duration": 13,
    "start_time": "2022-10-22T21:20:04.311Z"
   },
   {
    "duration": 7,
    "start_time": "2022-10-22T21:20:04.326Z"
   },
   {
    "duration": 5,
    "start_time": "2022-10-22T21:20:04.334Z"
   },
   {
    "duration": 10,
    "start_time": "2022-10-22T21:23:43.867Z"
   },
   {
    "duration": 4761,
    "start_time": "2022-10-22T21:23:43.878Z"
   },
   {
    "duration": 12897,
    "start_time": "2022-10-22T21:23:48.641Z"
   },
   {
    "duration": 2327,
    "start_time": "2022-10-22T21:24:01.540Z"
   },
   {
    "duration": 22,
    "start_time": "2022-10-22T21:24:03.868Z"
   },
   {
    "duration": 6,
    "start_time": "2022-10-22T21:24:03.891Z"
   },
   {
    "duration": 76,
    "start_time": "2022-10-22T21:24:03.898Z"
   },
   {
    "duration": 224,
    "start_time": "2022-10-22T21:24:03.976Z"
   },
   {
    "duration": 5,
    "start_time": "2022-10-22T21:24:04.208Z"
   },
   {
    "duration": 6,
    "start_time": "2022-10-22T21:24:04.215Z"
   },
   {
    "duration": 6562,
    "start_time": "2022-10-22T21:24:04.223Z"
   },
   {
    "duration": 4,
    "start_time": "2022-10-22T21:24:10.786Z"
   },
   {
    "duration": 4405,
    "start_time": "2022-10-22T21:24:10.792Z"
   },
   {
    "duration": 13,
    "start_time": "2022-10-22T21:24:15.198Z"
   },
   {
    "duration": 1120,
    "start_time": "2022-10-22T21:24:15.212Z"
   },
   {
    "duration": 156,
    "start_time": "2022-10-22T21:24:16.333Z"
   },
   {
    "duration": 90,
    "start_time": "2022-10-22T21:24:16.490Z"
   },
   {
    "duration": 3,
    "start_time": "2022-10-22T21:24:16.582Z"
   },
   {
    "duration": 6,
    "start_time": "2022-10-22T21:24:16.586Z"
   },
   {
    "duration": 15,
    "start_time": "2022-10-22T21:24:16.594Z"
   },
   {
    "duration": 11,
    "start_time": "2022-10-22T21:41:23.422Z"
   },
   {
    "duration": 4741,
    "start_time": "2022-10-22T21:41:23.435Z"
   },
   {
    "duration": 12732,
    "start_time": "2022-10-22T21:41:28.177Z"
   },
   {
    "duration": 2236,
    "start_time": "2022-10-22T21:41:40.911Z"
   },
   {
    "duration": 19,
    "start_time": "2022-10-22T21:41:43.149Z"
   },
   {
    "duration": 6,
    "start_time": "2022-10-22T21:41:43.169Z"
   },
   {
    "duration": 83,
    "start_time": "2022-10-22T21:41:43.177Z"
   },
   {
    "duration": 223,
    "start_time": "2022-10-22T21:41:43.262Z"
   },
   {
    "duration": 5,
    "start_time": "2022-10-22T21:41:43.486Z"
   },
   {
    "duration": 5,
    "start_time": "2022-10-22T21:41:43.493Z"
   },
   {
    "duration": 6678,
    "start_time": "2022-10-22T21:41:43.508Z"
   },
   {
    "duration": 4,
    "start_time": "2022-10-22T21:41:50.187Z"
   },
   {
    "duration": 4357,
    "start_time": "2022-10-22T21:41:50.192Z"
   },
   {
    "duration": 7,
    "start_time": "2022-10-22T21:41:54.550Z"
   },
   {
    "duration": 1137,
    "start_time": "2022-10-22T21:41:54.558Z"
   },
   {
    "duration": 155,
    "start_time": "2022-10-22T21:41:55.697Z"
   },
   {
    "duration": 88,
    "start_time": "2022-10-22T21:41:55.854Z"
   },
   {
    "duration": 7,
    "start_time": "2022-10-22T21:41:55.943Z"
   },
   {
    "duration": 4,
    "start_time": "2022-10-22T21:41:55.951Z"
   },
   {
    "duration": 5,
    "start_time": "2022-10-22T21:41:55.956Z"
   }
  ],
  "kernelspec": {
   "display_name": "Python 3 (ipykernel)",
   "language": "python",
   "name": "python3"
  },
  "language_info": {
   "codemirror_mode": {
    "name": "ipython",
    "version": 3
   },
   "file_extension": ".py",
   "mimetype": "text/x-python",
   "name": "python",
   "nbconvert_exporter": "python",
   "pygments_lexer": "ipython3",
   "version": "3.9.7"
  },
  "toc": {
   "base_numbering": 1,
   "nav_menu": {},
   "number_sections": true,
   "sideBar": true,
   "skip_h1_title": false,
   "title_cell": "Table of Contents",
   "title_sidebar": "Contents",
   "toc_cell": false,
   "toc_position": {},
   "toc_section_display": true,
   "toc_window_display": true
  }
 },
 "nbformat": 4,
 "nbformat_minor": 5
}
