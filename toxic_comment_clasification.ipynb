{
 "cells": [
  {
   "cell_type": "markdown",
   "id": "34628a96",
   "metadata": {},
   "source": [
    "<div class=\"alert alert-block alert-info\">Привет Роман, я решил переделать проект, под BERT, я не перенес сюда твои предыдущие комментарии, надеюсь это не создаст проблем</div>"
   ]
  },
  {
   "cell_type": "markdown",
   "id": "960dc0c6",
   "metadata": {},
   "source": [
    "<div class=\"alert alert-success\">\n",
    "<h2> Комментарий ревьюера <a class=\"tocSkip\"> </h2>\n",
    "\n",
    "<b>Все отлично!👍:</b> \n",
    "    \n",
    "Отлично переделал, только один пункт из прошлой версии все ещё не исправлен."
   ]
  },
  {
   "cell_type": "markdown",
   "id": "113a6046",
   "metadata": {},
   "source": [
    "# <span style=\"color:Maroon\">ПРОЕКТ: Прогноз Проект для «Викишоп» с BERT</span>"
   ]
  },
  {
   "cell_type": "markdown",
   "id": "4cef1698",
   "metadata": {},
   "source": [
    "<div style=\"background-color:#f3f3f3; border:solid #363636 2px; padding: 20px\">\n",
    "    \n",
    "Интернет-магазин «Викишоп» запускает новый сервис. Теперь пользователи могут редактировать и дополнять описания товаров, как в вики-сообществах. То есть клиенты предлагают свои правки и комментируют изменения других.\n",
    "\n",
    "**Цель данного проекта** - Необходимо создать инструмент, который будет искать токсичные комментарии и отправлять их на модерацию.\n",
    "    \n",
    "Заказчику важны:\n",
    "- Модель со значением метрики качества *F1* не меньше 0.75. \n",
    "   \n",
    "<span style=\"color:Maroon\">**1 Загрузить данные:**</span>\n",
    "    \n",
    "<span style=\"color:Maroon\">**2 Подготовить данные:**</span>\n",
    "\n",
    "- Проверить состав предоставленной выбороки;\n",
    "- Проанализировать данные;\n",
    "- Провести предобработку данных;\n",
    "- Описать результаты.\n",
    "        \n",
    "<span style=\"color:Maroon\">**3 Обучить модель и выбрать лучшую:**</span>    \n",
    "    \n",
    "- Обучите разные модели на базовых настройках;\n",
    "- Обучите разные модели на с подбором гиперпараметров;\n",
    "- Подобрать для моделей оптимальные гиперпараметры;\n",
    "- Оценить качество моделей кросс-валидацией;\n",
    "- Выбрать лучшую модель\n",
    "- Сделать выводы.\n",
    "    \n",
    "<span style=\"color:Maroon\">**4 Тестирование лучшей модели:**</span>    \n",
    "    \n",
    "- Проверить модель на тестовой выборке;\n",
    "- Проанализировать предсказания выбранной модели;\n",
    "- Написать выводы и обосновать выбор.  \n",
    "</div>"
   ]
  },
  {
   "cell_type": "markdown",
   "id": "983c7adb",
   "metadata": {},
   "source": [
    "<div style=\"background-color:#f3f3f3; border:solid #363636 2px; padding: 20px\">\n",
    "создам стиль для отображения табличных данных\n",
    "</div>"
   ]
  },
  {
   "cell_type": "code",
   "execution_count": 1,
   "id": "fa151565",
   "metadata": {},
   "outputs": [],
   "source": [
    "cell_hover     = {'selector': 'td:hover',\n",
    "                  'props'   : [('background', '#9E4447'), ('color', '#ffffff')]} # формат выделенной ячейки\n",
    "\n",
    "row_hover      = {'selector': 'tr:hover',\n",
    "                  'props'   : [('background', '#808080'), ('color', '#ffffff')]} # формат выделенной строки\n",
    "\n",
    "color_row_even = {'selector': 'tr:nth-of-type(even)',\n",
    "                  'props'   : [('background', '#D9D9D9'),\n",
    "                              ('color', 'black')]}                               # формат нечетных строк\n",
    "\n",
    "color_row_odd  = {'selector': 'tr:nth-of-type(odd)',\n",
    "                  'props'   : [('background', '#ffffff'),\n",
    "                              ('color', '#363636')]}                             # формат четных строк\n",
    "\n",
    "index_names    = {'selector': 'th',\n",
    "                  'props'   : [('background', '#363636'), \n",
    "                                ('color', '#ffffff'),                            \n",
    "                                ('text-align','center')]}                        # формат заголовка и индекса\n",
    "\n",
    "border_inner   = {'selector' : 'td',\n",
    "                  'props'    : [('border','1px dashed #363636')]}                # формат границы таблицы\n",
    "\n",
    "border_outer   = {'selector' : '',\n",
    "                  'props'    : [('border','2px solid #363636')]}                 # формат границы таблицы\n",
    "\n",
    "# передаю в переменную для дальнейшего использования\n",
    "styler = [cell_hover, color_row_even, color_row_odd, index_names, row_hover, border_inner, border_outer]"
   ]
  },
  {
   "cell_type": "code",
   "execution_count": 2,
   "id": "f96ff554",
   "metadata": {},
   "outputs": [
    {
     "name": "stderr",
     "output_type": "stream",
     "text": [
      "[nltk_data] Downloading package wordnet to C:\\Users\\Stas\n",
      "[nltk_data]     Che\\AppData\\Roaming\\nltk_data...\n",
      "[nltk_data]   Package wordnet is already up-to-date!\n",
      "[nltk_data] Downloading package omw-1.4 to C:\\Users\\Stas\n",
      "[nltk_data]     Che\\AppData\\Roaming\\nltk_data...\n",
      "[nltk_data]   Package omw-1.4 is already up-to-date!\n",
      "[nltk_data] Downloading package stopwords to C:\\Users\\Stas\n",
      "[nltk_data]     Che\\AppData\\Roaming\\nltk_data...\n",
      "[nltk_data]   Package stopwords is already up-to-date!\n"
     ]
    },
    {
     "data": {
      "text/plain": [
       "True"
      ]
     },
     "execution_count": 2,
     "metadata": {},
     "output_type": "execute_result"
    }
   ],
   "source": [
    "# библиотеки\n",
    "import re\n",
    "import pandas as pd \n",
    "import numpy as np\n",
    "import seaborn as sns\n",
    "import torch\n",
    "import transformers\n",
    "import nltk\n",
    "import warnings \n",
    "from matplotlib import pyplot as plt\n",
    "\n",
    "# обработка\n",
    "from transformers import BertModel\n",
    "from transformers import BertTokenizer\n",
    "from tqdm import notebook\n",
    "from sklearn.model_selection import train_test_split\n",
    "from nltk.tokenize import TweetTokenizer   \n",
    "from nltk.stem import WordNetLemmatizer\n",
    "from wordcloud import WordCloud\n",
    "from wordcloud import ImageColorGenerator\n",
    "from wordcloud import STOPWORDS\n",
    "from PIL import Image\n",
    "from nltk.corpus import stopwords as nltk_stopwords\n",
    "\n",
    "# модели\n",
    "from sklearn.model_selection import GridSearchCV\n",
    "from sklearn.linear_model import LogisticRegression\n",
    "from sklearn.ensemble import RandomForestClassifier\n",
    "from sklearn.dummy import DummyClassifier\n",
    "from sklearn.tree import DecisionTreeClassifier\n",
    "from sklearn.svm import LinearSVC\n",
    "from lightgbm import LGBMClassifier\n",
    "\n",
    "# метрики\n",
    "from sklearn.metrics import f1_score\n",
    "from sklearn.metrics import ConfusionMatrixDisplay\n",
    "from sklearn.metrics import confusion_matrix\n",
    "from sklearn.metrics import auc\n",
    "from sklearn.metrics import roc_curve\n",
    "from time import time\n",
    "\n",
    "# настройки и параметры\n",
    "toki_zer   = TweetTokenizer()\n",
    "stop_words = set(nltk_stopwords.words('english'))\n",
    "m          = WordNetLemmatizer()\n",
    "RANDOM     = 1123581321\n",
    "METRIC     = 'f1'\n",
    "warnings.filterwarnings('ignore')\n",
    "nltk.download('wordnet')\n",
    "nltk.download('omw-1.4')\n",
    "nltk.download('stopwords')"
   ]
  },
  {
   "cell_type": "markdown",
   "id": "5846f955",
   "metadata": {},
   "source": [
    "# Подготовка"
   ]
  },
  {
   "cell_type": "markdown",
   "id": "b4bfdc06",
   "metadata": {},
   "source": [
    "## Загрузка данных и первый осмотр"
   ]
  },
  {
   "cell_type": "markdown",
   "id": "e9b66c01",
   "metadata": {},
   "source": [
    "<div style=\"background-color:#f3f3f3; border:solid #363636 2px; padding: 20px\">\n",
    "Предварительно подгружу библиотеку с предобученной моделью https://huggingface.co/unitary/toxic-bert\n",
    "</div>"
   ]
  },
  {
   "cell_type": "code",
   "execution_count": 3,
   "id": "44b4caf9",
   "metadata": {
    "scrolled": true
   },
   "outputs": [
    {
     "name": "stderr",
     "output_type": "stream",
     "text": [
      "Some weights of the model checkpoint at unitary/toxic-bert were not used when initializing BertModel: ['classifier.weight', 'classifier.bias']\n",
      "- This IS expected if you are initializing BertModel from the checkpoint of a model trained on another task or with another architecture (e.g. initializing a BertForSequenceClassification model from a BertForPreTraining model).\n",
      "- This IS NOT expected if you are initializing BertModel from the checkpoint of a model that you expect to be exactly identical (initializing a BertForSequenceClassification model from a BertForSequenceClassification model).\n"
     ]
    }
   ],
   "source": [
    "model = BertModel.from_pretrained('unitary/toxic-bert',output_hidden_states = True)\n",
    "\n",
    "# инициализируем токенизатор\n",
    "tokenizer = BertTokenizer.from_pretrained('unitary/toxic-bert')"
   ]
  },
  {
   "cell_type": "markdown",
   "id": "ed085e26",
   "metadata": {},
   "source": [
    "<div style=\"background-color:#f3f3f3; border:solid #363636 2px; padding: 20px\">\n",
    "Далее загружаем датасет для работы\n",
    "</div>"
   ]
  },
  {
   "cell_type": "code",
   "execution_count": 4,
   "id": "03e15541",
   "metadata": {},
   "outputs": [],
   "source": [
    "# вариативная загрузка данных\n",
    "try:\n",
    "    data_text = pd.read_csv('toxic_comments.csv')\n",
    "except:\n",
    "    data_text = pd.read_csv('/datasets/toxic_comments.csv')"
   ]
  },
  {
   "cell_type": "code",
   "execution_count": 5,
   "id": "1ff38651",
   "metadata": {},
   "outputs": [
    {
     "name": "stdout",
     "output_type": "stream",
     "text": [
      "<class 'pandas.core.frame.DataFrame'>\n",
      "RangeIndex: 159571 entries, 0 to 159570\n",
      "Data columns (total 2 columns):\n",
      " #   Column  Non-Null Count   Dtype \n",
      "---  ------  --------------   ----- \n",
      " 0   text    159571 non-null  object\n",
      " 1   toxic   159571 non-null  int64 \n",
      "dtypes: int64(1), object(1)\n",
      "memory usage: 2.4+ MB\n"
     ]
    }
   ],
   "source": [
    "data_text.info()"
   ]
  },
  {
   "cell_type": "code",
   "execution_count": 6,
   "id": "215d893a",
   "metadata": {},
   "outputs": [
    {
     "data": {
      "text/plain": [
       "'89.83%'"
      ]
     },
     "execution_count": 6,
     "metadata": {},
     "output_type": "execute_result"
    }
   ],
   "source": [
    "'{:.2%}'.format(data_text.value_counts('toxic')[0] / data_text.shape[0])"
   ]
  },
  {
   "cell_type": "markdown",
   "id": "274cfb58",
   "metadata": {},
   "source": [
    "<div style=\"background-color:#f3f3f3; border:solid #363636 2px; padding: 20px\">    \n",
    "Баланс классов в данных сильно искажен в сторону не токсичных комментариев\n",
    "</div>"
   ]
  },
  {
   "cell_type": "code",
   "execution_count": 7,
   "id": "413a344f",
   "metadata": {},
   "outputs": [],
   "source": [
    "data_text['text_length'] = data_text['text'].apply(lambda x: len(str(x)))"
   ]
  },
  {
   "cell_type": "code",
   "execution_count": 8,
   "id": "1e3c3c91",
   "metadata": {
    "scrolled": false
   },
   "outputs": [
    {
     "data": {
      "image/png": "[encoded data removed]",
      "text/plain": [
       "<Figure size 864x432 with 1 Axes>"
      ]
     },
     "metadata": {
      "needs_background": "light"
     },
     "output_type": "display_data"
    }
   ],
   "source": [
    "plt.figure(figsize = (12, 6))\n",
    "sns.set_style('whitegrid')\n",
    "\n",
    "sns.histplot(data_text['text_length'], \n",
    "             bins = 10, \n",
    "             color = '#363636', \n",
    "             element=\"step\")\n",
    "plt.show()"
   ]
  },
  {
   "cell_type": "markdown",
   "id": "846f389f",
   "metadata": {},
   "source": [
    "<div style=\"background-color:#f3f3f3; border:solid #363636 2px; padding: 20px\">    \n",
    "длина комментариев достигает 5000 символов, основное количество сосредоточено в районе 500 символов\n",
    "</div>"
   ]
  },
  {
   "cell_type": "markdown",
   "id": "6b61015f",
   "metadata": {},
   "source": [
    "## Облако слов"
   ]
  },
  {
   "cell_type": "markdown",
   "id": "0ac767bf",
   "metadata": {},
   "source": [
    "<div style=\"background-color:#f3f3f3; border:solid #363636 2px; padding: 20px\">    \n",
    "Создам облако самых популярных слов в токсичных комментариях, для этого предварительно проведу очистку текста\n",
    "</div>"
   ]
  },
  {
   "cell_type": "code",
   "execution_count": 9,
   "id": "c2ab7490",
   "metadata": {},
   "outputs": [],
   "source": [
    "aphost = { \"aren't\" : \"are not\", \"can't\" : \"cannot\", \"couldn't\" : \"could not\", \n",
    "          \"didn't\" : \"did not\", \"doesn't\" : \"does not\", \"don't\" : \"do not\",\n",
    "          \"hadn't\" : \"had not\", \"hasn't\" : \"has not\", \"haven't\" : \"have not\",\n",
    "          \"he'd\" : \"he would\", \"he'll\" : \"he will\", \"he's\" : \"he is\",\n",
    "          \"i'd\" : \"I would\", \"i'd\" : \"I had\", \"i'll\" : \"I will\", \"i'm\" : \"I am\",\n",
    "          \"isn't\" : \"is not\", \"it's\" : \"it is\", \"it'll\":\"it will\", \"i've\" : \"I have\",\n",
    "          \"let's\" : \"let us\", \"mightn't\" : \"might not\", \"mustn't\" : \"must not\",\n",
    "          \"shan't\" : \"shall not\", \"she'd\" : \"she would\", \"she'll\" : \"she will\", \"she's\" : \"she is\",\n",
    "          \"shouldn't\" : \"should not\", \"that's\" : \"that is\", \"there's\" : \"there is\",\n",
    "          \"they'd\" : \"they would\", \"they'll\" : \"they will\", \"they're\" : \"they are\",\n",
    "          \"they've\" : \"they have\", \"we'd\" : \"we would\", \"we're\" : \"we are\", \"weren't\" : \"were not\",\n",
    "          \"we've\" : \"we have\", \"what'll\" : \"what will\", \"what're\" : \"what are\", \"what's\" : \"what is\",\n",
    "          \"what've\" : \"what have\", \"where's\" : \"where is\", \"who'd\" : \"who would\",\n",
    "          \"who'll\" : \"who will\", \"who're\" : \"who are\", \"who's\" : \"who is\", \"who've\" : \"who have\",\n",
    "          \"won't\" : \"will not\", \"wouldn't\" : \"would not\", \"you'd\" : \"you would\",\n",
    "          \"you'll\" : \"you will\", \"you're\" : \"you are\", \"you've\" : \"you have\",\n",
    "          \"'re\": \" are\", \"wasn't\": \"was not\", \"we'll\":\" will\", \"didn't\": \"did not\",\"tryin'\":\"trying\"}"
   ]
  },
  {
   "cell_type": "code",
   "execution_count": 10,
   "id": "86422bf4",
   "metadata": {},
   "outputs": [],
   "source": [
    "def clear_text(text):    \n",
    "    \n",
    "    clear_lemm_text = str(text.lower())    \n",
    "    clear_lemm_text = re.sub(r'\\\\n','',clear_lemm_text)\n",
    "    clear_lemm_text = re.sub(r'\\\\n\\\\n','',clear_lemm_text)\n",
    "    clear_lemm_text = re.sub(r'\\[\\[.*\\]','',clear_lemm_text)\n",
    "    clear_lemm_text = re.sub(r'\\d{1,3}\\.\\d{1,3}\\.\\d{1,3}\\.\\d{1,3}','',clear_lemm_text)\n",
    "    clear_lemm_text = re.sub(r'[^a-zA-Z]',' ',clear_lemm_text)\n",
    "    clear_lemm_text = re.sub(r' . ',' ',clear_lemm_text)\n",
    "    \n",
    "    words = toki_zer.tokenize(clear_lemm_text)    \n",
    "    words = [aphost[word] if word in aphost else word for word in words]\n",
    "    words = [m.lemmatize(word, \"v\") for word in words]\n",
    "    words = [w for w in words if not w in stop_words]\n",
    "    \n",
    "    clear_lemm_text = \" \".join(words)\n",
    "    \n",
    "    return clear_lemm_text"
   ]
  },
  {
   "cell_type": "markdown",
   "id": "b5a85a8f",
   "metadata": {},
   "source": [
    "<div class=\"alert alert-warning\">\n",
    "    <h2> Комментарий ревьюера <a class=\"tocSkip\"> </h2>\n",
    "\n",
    "<b>Некоторые замечания и рекомендации💡:</b>\n",
    "\n",
    "\n",
    "\n",
    "Все ещё нет POS-тегов для лемматизатора.\n",
    "    \n",
    "Вообще, если работаешь с BERT, то лемматизацию лучше не применять. Если ты преобразовываешь глагол настоящего времени в инфинитив, то теряется информация - она может быть важна для нас. Хотя, конечно, лучше посмотреть экспериментально на влияение лемматизации для конкретной задачи.\n",
    "    "
   ]
  },
  {
   "cell_type": "markdown",
   "id": "826f04e2",
   "metadata": {},
   "source": [
    "<div class=\"alert alert-block alert-info\">Роман, я здесь делаю лемматизацию исключительно для облака, и не применяю далее эту выборку для BERT я могу просто удалить этот блок и снять лемматизацию, я видел твое замечание, но в последний момент решил все таки внести облако текста в данный проект исполюзуя готовый блок кода. Я не думаю что здесь есть принципиальный момент чтобы ты непринимал мою работу. Я оставлю его как есть, мне просто визуально нравиться как получилось. Я надеюсь ты снимишь свое замечание, я уверен что если я удалю блок \"2.2 облако слов\" проект не измениться. Оставить его или нет я пойму если ты олтправишь мой проект на доработку</div>"
   ]
  },
  {
   "cell_type": "markdown",
   "id": "c9966f73",
   "metadata": {},
   "source": [
    "<div class=\"alert alert-warning\">\n",
    "    <h2> Комментарий ревьюера <a class=\"tocSkip\"> </h2>\n",
    "\n",
    "<b>Некоторые замечания и рекомендации💡:</b>\n",
    "\n",
    "Хорошо, но в будующих проектах будь аккуратнее с этим."
   ]
  },
  {
   "cell_type": "code",
   "execution_count": 11,
   "id": "1d3feccb",
   "metadata": {},
   "outputs": [],
   "source": [
    "text_cloud = data_text[data_text['toxic'] == 1]\n",
    "text_cloud['text'] = text_cloud['text'].apply(clear_text)"
   ]
  },
  {
   "cell_type": "code",
   "execution_count": 12,
   "id": "343cb207",
   "metadata": {},
   "outputs": [],
   "source": [
    "def word_cloud(data, path, label):\n",
    "    mask = np.array(Image.open(path))\n",
    "    text = \" \".join(t for t in data)\n",
    "    \n",
    "    wordcloud = WordCloud(stopwords        = STOPWORDS, \n",
    "                          background_color = \"white\",\n",
    "                          max_words        = 1000, \n",
    "                          mask             = mask).generate(text)\n",
    "\n",
    "    image_colors = ImageColorGenerator(mask)\n",
    "    \n",
    "    plt.figure(figsize = (10, 10))\n",
    "    plt.imshow(wordcloud.recolor(color_func = image_colors), interpolation = \"bilinear\")\n",
    "    plt.title(label, fontsize = 14)\n",
    "    plt.axis(\"off\")"
   ]
  },
  {
   "cell_type": "code",
   "execution_count": 13,
   "id": "11d24939",
   "metadata": {},
   "outputs": [
    {
     "data": {
      "image/png": "[encoded data removed]",
      "text/plain": [
       "<Figure size 720x720 with 1 Axes>"
      ]
     },
     "metadata": {},
     "output_type": "display_data"
    }
   ],
   "source": [
    "word_cloud(text_cloud['text'], 'heart.png', 'Cloud Words Toxic Comments')"
   ]
  },
  {
   "cell_type": "markdown",
   "id": "a80718e2",
   "metadata": {},
   "source": [
    "<div class=\"alert alert-success\">\n",
    "<h2> Комментарий ревьюера <a class=\"tocSkip\"> </h2>\n",
    "\n",
    "<b>Все отлично!👍:</b> \n",
    "    \n",
    "Супер, что делаешь такой анализ"
   ]
  },
  {
   "cell_type": "markdown",
   "id": "ff13006f",
   "metadata": {},
   "source": [
    "## Подготовка признаков"
   ]
  },
  {
   "cell_type": "markdown",
   "id": "957d42f0",
   "metadata": {},
   "source": [
    "<div style=\"background-color:#f3f3f3; border:solid #363636 2px; padding: 20px\">    \n",
    "В датасете огромное количество комментариев, это затруднит подготовку текста и обучение моделей, поэтому я сделаю выборку из датасета с учетом дисбаланса классов которые были найдены на предыдущем этапе, соберу выборку из 1000 тыс экземпляров случайным образом\n",
    "</div>"
   ]
  },
  {
   "cell_type": "code",
   "execution_count": 14,
   "id": "c56bdd2f",
   "metadata": {},
   "outputs": [],
   "source": [
    "text_sample = data_text.sample(1000, random_state = RANDOM)"
   ]
  },
  {
   "cell_type": "markdown",
   "id": "44b7e71a",
   "metadata": {},
   "source": [
    "<div style=\"background-color:#f3f3f3; border:solid #363636 2px; padding: 20px\">    \n",
    "Токенизируем каждый комментарий\n",
    "</div>"
   ]
  },
  {
   "cell_type": "code",
   "execution_count": 15,
   "id": "e01580cd",
   "metadata": {},
   "outputs": [],
   "source": [
    "tokenized = text_sample['text'].apply(lambda x: tokenizer.encode(x, add_special_tokens=True, truncation=True))"
   ]
  },
  {
   "cell_type": "code",
   "execution_count": 16,
   "id": "e5627d2e",
   "metadata": {
    "scrolled": false
   },
   "outputs": [
    {
     "name": "stdout",
     "output_type": "stream",
     "text": [
      "максимальная длина вектора:512\n"
     ]
    },
    {
     "data": {
      "image/png": "[encoded data removed]",
      "text/plain": [
       "<Figure size 864x432 with 1 Axes>"
      ]
     },
     "metadata": {},
     "output_type": "display_data"
    }
   ],
   "source": [
    "plt.figure(figsize = (12, 6))\n",
    "sns.set_style('whitegrid')\n",
    "ax = tokenized.str.len()\n",
    "sns.histplot(ax, \n",
    "             bins = 10, \n",
    "             color = '#363636', \n",
    "             element=\"step\")\n",
    "print(f'максимальная длина вектора:{ax.max()}')\n",
    "plt.show()"
   ]
  },
  {
   "cell_type": "markdown",
   "id": "c1e50cea",
   "metadata": {},
   "source": [
    "<div style=\"background-color:#f3f3f3; border:solid #363636 2px; padding: 20px\">    \n",
    "Токены подготовлены, максимальная длина вектора составляет 512, далее необходимо применит метод **padding** к векторам и создать маску для выделения важных токенов, куда передадим размер самого длинного вектора\n",
    "</div>"
   ]
  },
  {
   "cell_type": "code",
   "execution_count": 17,
   "id": "254c9a1d",
   "metadata": {},
   "outputs": [],
   "source": [
    "padded = np.array([i + [0]*(ax.max() - len(i)) for i in tokenized.values])"
   ]
  },
  {
   "cell_type": "code",
   "execution_count": 18,
   "id": "59f33380",
   "metadata": {},
   "outputs": [],
   "source": [
    "# создадим маску для важных токенов\n",
    "attention_mask = np.where(padded != 0, 1, 0)"
   ]
  },
  {
   "cell_type": "markdown",
   "id": "89784998",
   "metadata": {},
   "source": [
    "<div style=\"background-color:#f3f3f3; border:solid #363636 2px; padding: 20px\">    \n",
    "Проверим размеры матриц\n",
    "</div>"
   ]
  },
  {
   "cell_type": "code",
   "execution_count": 19,
   "id": "bb4f4cf6",
   "metadata": {},
   "outputs": [
    {
     "data": {
      "text/plain": [
       "True"
      ]
     },
     "execution_count": 19,
     "metadata": {},
     "output_type": "execute_result"
    }
   ],
   "source": [
    "padded.shape[0] == attention_mask.shape[0]"
   ]
  },
  {
   "cell_type": "code",
   "execution_count": 20,
   "id": "d72530df",
   "metadata": {
    "scrolled": true
   },
   "outputs": [
    {
     "data": {
      "text/plain": [
       "True"
      ]
     },
     "execution_count": 20,
     "metadata": {},
     "output_type": "execute_result"
    }
   ],
   "source": [
    "padded.shape[0] == attention_mask.shape[0] == tokenized.shape[0]"
   ]
  },
  {
   "cell_type": "markdown",
   "id": "8aedeba2",
   "metadata": {},
   "source": [
    "## Эмбеддинг"
   ]
  },
  {
   "cell_type": "markdown",
   "id": "931b0359",
   "metadata": {},
   "source": [
    "<div style=\"background-color:#f3f3f3; border:solid #363636 2px; padding: 20px\">    \n",
    "Начнём преобразование текстов в эмбеддинги. Эмбеддинги модель **BERT** создаёт батчами, чтобы хватило оперативной памяти, сделаем размер батча небольшим.\n",
    "   \n",
    "Преобразуем данные в формат тензоров в библиотеке **torch**, которые передадим модели, далее из полученного тензора извлечём нужные элементы и добавим в список всех эмбеддингов\n",
    "</div>"
   ]
  },
  {
   "cell_type": "raw",
   "id": "a14ad423",
   "metadata": {},
   "source": [
    "%%time\n",
    "batch_size = 100\n",
    "embeddings = []\n",
    "\n",
    "for i in notebook.tqdm(range(padded.shape[0] // batch_size)):\n",
    "    \n",
    "        batch = torch.LongTensor(padded[batch_size * i : batch_size * (i + 1)])\n",
    "        \n",
    "        attention_mask_batch = torch.LongTensor(attention_mask[batch_size * i : batch_size * (i + 1)])\n",
    "        \n",
    "        with torch.no_grad():\n",
    "            \n",
    "            batch_embeddings = model(batch, attention_mask=attention_mask_batch)\n",
    "        \n",
    "        embeddings.append(batch_embeddings[0][:,0,:].numpy())"
   ]
  },
  {
   "cell_type": "markdown",
   "id": "88d33791",
   "metadata": {},
   "source": [
    "<div style=\"background-color:#f3f3f3; border:solid #363636 2px; padding: 20px\">    \n",
    "Соберём все эмбеддинги в матрицу признаков\n",
    "</div>"
   ]
  },
  {
   "cell_type": "raw",
   "id": "0e93d3be",
   "metadata": {},
   "source": [
    "# инициировать ячейку при полном прогоне проекта\n",
    "np.save('embeddings.npy', embeddings)"
   ]
  },
  {
   "cell_type": "code",
   "execution_count": 21,
   "id": "de512ba7",
   "metadata": {},
   "outputs": [],
   "source": [
    "embeddings = np.load('embeddings.npy')"
   ]
  },
  {
   "cell_type": "code",
   "execution_count": 22,
   "id": "efe4af81",
   "metadata": {},
   "outputs": [],
   "source": [
    "features = np.concatenate(embeddings)\n",
    "target   =  text_sample['toxic']"
   ]
  },
  {
   "cell_type": "code",
   "execution_count": 23,
   "id": "80200f5e",
   "metadata": {},
   "outputs": [],
   "source": [
    "features_train, features_test, target_train, target_test = train_test_split(features,\n",
    "                                                                            target,\n",
    "                                                                            test_size    = 0.5, \n",
    "                                                                            random_state = RANDOM,\n",
    "                                                                            stratify     = target)"
   ]
  },
  {
   "cell_type": "code",
   "execution_count": 24,
   "id": "def9d8e2",
   "metadata": {
    "scrolled": true
   },
   "outputs": [
    {
     "data": {
      "text/plain": [
       "(0    448\n",
       " 1     52\n",
       " Name: toxic, dtype: int64,\n",
       " 0    447\n",
       " 1     53\n",
       " Name: toxic, dtype: int64)"
      ]
     },
     "execution_count": 24,
     "metadata": {},
     "output_type": "execute_result"
    }
   ],
   "source": [
    "target_train.value_counts(), target_test.value_counts()"
   ]
  },
  {
   "cell_type": "markdown",
   "id": "86c31517",
   "metadata": {},
   "source": [
    "<div style=\"background-color:#f3f3f3; border:solid #363636 2px; padding: 20px\">    \n",
    "проверка содержание классов в тренировочной и тестовой выборках, показывает что распределение на уровне основного датасета, которые равномерно распределены в выборках - баланс соблюден\n",
    "</div>"
   ]
  },
  {
   "cell_type": "markdown",
   "id": "b69a475d",
   "metadata": {},
   "source": [
    "<div style=\"background-color:gray; border:solid #363636 2px; padding: 20px\">  \n",
    "    \n",
    "<span style=\"color:white\">**Выводы:**</span>  \n",
    "   \n",
    "<span style=\"color:white\">\n",
    "    \n",
    "- Данные загружены;\n",
    "- Данные отобранны для дальнейшей работы;\n",
    "- Проведена токенизация;\n",
    "- Проведен эмбеддинг;\n",
    "- Проведена разбивака данных на тренировочную и тестовую;\n",
    "- Признаки готовы, можно обучать модель!\n",
    "</span>\n",
    "</div>"
   ]
  },
  {
   "cell_type": "markdown",
   "id": "5f8def2e",
   "metadata": {},
   "source": [
    "<div class=\"alert alert-success\">\n",
    "<h2> Комментарий ревьюера <a class=\"tocSkip\"> </h2>\n",
    "\n",
    "<b>Все отлично!👍:</b> \n",
    "    \n",
    "Хорошо"
   ]
  },
  {
   "cell_type": "markdown",
   "id": "beef7fe7",
   "metadata": {},
   "source": [
    "# Обучение моделей"
   ]
  },
  {
   "cell_type": "markdown",
   "id": "a68de05e",
   "metadata": {},
   "source": [
    "<div style=\"background-color:#f3f3f3; border:solid #363636 2px; padding: 20px\">    \n",
    "    \n",
    "В данном проекте стоит задача классификации, для это я выбрал четыре модели **LogisticRegression, RandomForestClassifier, DecisionTreeClassifier, LGBMClassifier, LinearSVC**. Основная задача подготовить и найти модель у которой метрия **f1_score будет не ниже 0,75**, для автоматизированного процесса буду использовать **GridSearchCV**, для подбора параметров, предварительно создам функцию для расчета. \n",
    "    \n",
    "Так же хочу провести моделирование в несколько этапов, чтобы отследить изменение качества моделей на всем пути обучения\n",
    "</div>"
   ]
  },
  {
   "cell_type": "markdown",
   "id": "d0f4bb49",
   "metadata": {},
   "source": [
    "## Модели с базовыми параметрами"
   ]
  },
  {
   "cell_type": "code",
   "execution_count": 25,
   "id": "fab4d4dc",
   "metadata": {},
   "outputs": [],
   "source": [
    "def grid_search_model_score(models, parameters, scoring, features, target):\n",
    "    \n",
    "    scores  = []\n",
    "    \n",
    "    for i in notebook.tqdm(range(len(models))):\n",
    "\n",
    "        grid_model = GridSearchCV(estimator  = models[i], \n",
    "                                  param_grid = parameters[i],\n",
    "                                  scoring    = METRIC,\n",
    "                                  n_jobs     = -1,\n",
    "                                  cv         = 3)\n",
    "\n",
    "        grid_model.fit(features, target)\n",
    "\n",
    "        time_score    = grid_model.cv_results_['mean_test_score']    \n",
    "        mean_fit_time = grid_model.cv_results_['mean_fit_time'][np.where(time_score == time_score.max())[0][0]]\n",
    "\n",
    "        scores.append([' '.join(re.sub(r'([A-Z])', r' \\1', str(models[i]).split('(')[0]).split()), \n",
    "                       grid_model.best_score_, \n",
    "                       mean_fit_time,\n",
    "                       grid_model.best_params_])\n",
    "    return scores"
   ]
  },
  {
   "cell_type": "code",
   "execution_count": 26,
   "id": "b2a71ae2",
   "metadata": {},
   "outputs": [],
   "source": [
    "classifiers  = [LogisticRegression(random_state = RANDOM),\n",
    "                RandomForestClassifier(random_state = RANDOM),\n",
    "                DecisionTreeClassifier(random_state = RANDOM),\n",
    "                LinearSVC(random_state = RANDOM)]"
   ]
  },
  {
   "cell_type": "code",
   "execution_count": 27,
   "id": "28165059",
   "metadata": {},
   "outputs": [],
   "source": [
    "parameters = [{}] * len(classifiers)"
   ]
  },
  {
   "cell_type": "code",
   "execution_count": 28,
   "id": "b9f290ed",
   "metadata": {
    "scrolled": false
   },
   "outputs": [
    {
     "data": {
      "application/vnd.jupyter.widget-view+json": {
       "model_id": "5d3bba8a156f43599bb415610168eb71",
       "version_major": 2,
       "version_minor": 0
      },
      "text/plain": [
       "  0%|          | 0/4 [00:00<?, ?it/s]"
      ]
     },
     "metadata": {},
     "output_type": "display_data"
    },
    {
     "name": "stdout",
     "output_type": "stream",
     "text": [
      "CPU times: total: 1.2 s\n",
      "Wall time: 13.8 s\n"
     ]
    }
   ],
   "source": [
    "%%time\n",
    "scores_base = grid_search_model_score(classifiers, \n",
    "                                      parameters, \n",
    "                                      METRIC, \n",
    "                                      features_train, \n",
    "                                      target_train)"
   ]
  },
  {
   "cell_type": "code",
   "execution_count": 29,
   "id": "306c8c74",
   "metadata": {
    "scrolled": true
   },
   "outputs": [
    {
     "data": {
      "text/html": [
       "<style type=\"text/css\">\n",
       "#T_9246f td:hover {\n",
       "  background: #9E4447;\n",
       "  color: #ffffff;\n",
       "}\n",
       "#T_9246f tr:nth-of-type(even) {\n",
       "  background: #D9D9D9;\n",
       "  color: black;\n",
       "}\n",
       "#T_9246f tr:nth-of-type(odd) {\n",
       "  background: #ffffff;\n",
       "  color: #363636;\n",
       "}\n",
       "#T_9246f th {\n",
       "  background: #363636;\n",
       "  color: #ffffff;\n",
       "  text-align: center;\n",
       "}\n",
       "#T_9246f tr:hover {\n",
       "  background: #808080;\n",
       "  color: #ffffff;\n",
       "}\n",
       "#T_9246f td {\n",
       "  border: 1px dashed #363636;\n",
       "}\n",
       "#T_9246f  {\n",
       "  border: 2px solid #363636;\n",
       "}\n",
       "</style>\n",
       "<table id=\"T_9246f\">\n",
       "  <caption>Результаты моделей на базовых параметрах</caption>\n",
       "  <thead>\n",
       "    <tr>\n",
       "      <th class=\"blank level0\" >&nbsp;</th>\n",
       "      <th id=\"T_9246f_level0_col0\" class=\"col_heading level0 col0\" >model</th>\n",
       "      <th id=\"T_9246f_level0_col1\" class=\"col_heading level0 col1\" >f1</th>\n",
       "      <th id=\"T_9246f_level0_col2\" class=\"col_heading level0 col2\" >mean_fit_time</th>\n",
       "      <th id=\"T_9246f_level0_col3\" class=\"col_heading level0 col3\" >parameters</th>\n",
       "    </tr>\n",
       "  </thead>\n",
       "  <tbody>\n",
       "    <tr>\n",
       "      <th id=\"T_9246f_level0_row0\" class=\"row_heading level0 row0\" >0</th>\n",
       "      <td id=\"T_9246f_row0_col0\" class=\"data row0 col0\" >Logistic Regression</td>\n",
       "      <td id=\"T_9246f_row0_col1\" class=\"data row0 col1\" >0.95</td>\n",
       "      <td id=\"T_9246f_row0_col2\" class=\"data row0 col2\" >0.19s</td>\n",
       "      <td id=\"T_9246f_row0_col3\" class=\"data row0 col3\" >{}</td>\n",
       "    </tr>\n",
       "    <tr>\n",
       "      <th id=\"T_9246f_level0_row1\" class=\"row_heading level0 row1\" >1</th>\n",
       "      <td id=\"T_9246f_row1_col0\" class=\"data row1 col0\" >Random Forest Classifier</td>\n",
       "      <td id=\"T_9246f_row1_col1\" class=\"data row1 col1\" >0.95</td>\n",
       "      <td id=\"T_9246f_row1_col2\" class=\"data row1 col2\" >0.77s</td>\n",
       "      <td id=\"T_9246f_row1_col3\" class=\"data row1 col3\" >{}</td>\n",
       "    </tr>\n",
       "    <tr>\n",
       "      <th id=\"T_9246f_level0_row2\" class=\"row_heading level0 row2\" >2</th>\n",
       "      <td id=\"T_9246f_row2_col0\" class=\"data row2 col0\" >Linear S V C</td>\n",
       "      <td id=\"T_9246f_row2_col1\" class=\"data row2 col1\" >0.94</td>\n",
       "      <td id=\"T_9246f_row2_col2\" class=\"data row2 col2\" >0.12s</td>\n",
       "      <td id=\"T_9246f_row2_col3\" class=\"data row2 col3\" >{}</td>\n",
       "    </tr>\n",
       "    <tr>\n",
       "      <th id=\"T_9246f_level0_row3\" class=\"row_heading level0 row3\" >3</th>\n",
       "      <td id=\"T_9246f_row3_col0\" class=\"data row3 col0\" >Decision Tree Classifier</td>\n",
       "      <td id=\"T_9246f_row3_col1\" class=\"data row3 col1\" >0.86</td>\n",
       "      <td id=\"T_9246f_row3_col2\" class=\"data row3 col2\" >0.08s</td>\n",
       "      <td id=\"T_9246f_row3_col3\" class=\"data row3 col3\" >{}</td>\n",
       "    </tr>\n",
       "  </tbody>\n",
       "</table>\n"
      ],
      "text/plain": [
       "<pandas.io.formats.style.Styler at 0x22748ebb880>"
      ]
     },
     "execution_count": 29,
     "metadata": {},
     "output_type": "execute_result"
    }
   ],
   "source": [
    "pd.DataFrame(data    = scores_base, \n",
    "             columns = ['model', 'f1', 'mean_fit_time', 'parameters'])\\\n",
    "            .sort_values(['f1', 'mean_fit_time'], ascending = [False, True])\\\n",
    "            .reset_index(drop = True)\\\n",
    "            .style\\\n",
    "            .format({'f1':'{:.2f}', 'mean_fit_time' : '{:,.2f}s'})\\\n",
    "            .set_caption(f'Результаты моделей на базовых параметрах',)\\\n",
    "            .set_table_styles(styler)"
   ]
  },
  {
   "cell_type": "markdown",
   "id": "f5589069",
   "metadata": {},
   "source": [
    "<div style=\"background-color:#f3f3f3; border:solid #363636 2px; padding: 20px\">\n",
    "    \n",
    "На базовых парметрах, все модели показывают отличный результат, выше заявленного, лидирует по качеству - модель на базовых параметрах **Logistic Regression**. Теперь необходимо постараться улучшить результаты с помощью подбора гиперпараметров для моделей\n",
    "</div>"
   ]
  },
  {
   "cell_type": "markdown",
   "id": "21d50e84",
   "metadata": {},
   "source": [
    "<div class=\"alert alert-success\">\n",
    "<h2> Комментарий ревьюера <a class=\"tocSkip\"> </h2>\n",
    "\n",
    "<b>Все отлично!👍:</b> \n",
    "    \n",
    "Отлично"
   ]
  },
  {
   "cell_type": "markdown",
   "id": "4ac3b7af",
   "metadata": {},
   "source": [
    "## Подбор гиперпараметров"
   ]
  },
  {
   "cell_type": "markdown",
   "id": "df996497",
   "metadata": {},
   "source": [
    "<div style=\"background-color:#f3f3f3; border:solid #363636 2px; padding: 20px\">\n",
    "    \n",
    "Далее буду перебирать параметры для моделей и на основании показателей качества моделей выберу лучшую\n",
    "</div>"
   ]
  },
  {
   "cell_type": "raw",
   "id": "1ae7c9fc",
   "metadata": {},
   "source": [
    "parameters = [{'solver'       : ['newton-cg', 'lbfgs', 'liblinear'],\n",
    "               'class_weight' : ['balanced', None]},\n",
    "              \n",
    "              {'n_estimators'      : [500, 1000],\n",
    "               'max_depth'         : [5, 10, 15],\n",
    "               'max_features'      : ['log2', 'sqrt'],\n",
    "               'min_samples_split' : [5, 10, 15],\n",
    "               'min_samples_leaf'  : [5, 10, 15],\n",
    "               'class_weight'      : ['balanced', None]},\n",
    "              \n",
    "              {'max_depth'         : [5, 10, 15],\n",
    "               'max_features'      : ['log2', 'sqrt'],\n",
    "               'min_samples_split' : [5, 10, 15],\n",
    "               'min_samples_leaf'  : [5, 10, 15],\n",
    "               'class_weight'      : ['balanced', None]},\n",
    "              \n",
    "              {'max_iter'     : [1000, 1500, 3000],\n",
    "               'class_weight' : ['balanced', None], \n",
    "               'C'            : [1.0, 6.0, 12.0]}]"
   ]
  },
  {
   "cell_type": "raw",
   "id": "8f3d435e",
   "metadata": {},
   "source": [
    "%%time\n",
    "scores_param = grid_search_model_score(classifiers, \n",
    "                                       parameters, \n",
    "                                       METRIC, \n",
    "                                       features_train,\n",
    "                                       target_train)"
   ]
  },
  {
   "cell_type": "code",
   "execution_count": 30,
   "id": "4b57fad2",
   "metadata": {},
   "outputs": [],
   "source": [
    "scores_param = [['Logistic Regression',\n",
    "                 0.962948662948663,\n",
    "                 0.2546652952829997,\n",
    "                 {'class_weight': 'balanced', \n",
    "                  'solver': 'newton-cg'}],\n",
    "                \n",
    "                ['Random Forest Classifier',\n",
    "                 0.962948662948663,\n",
    "                 4.378036737442017,\n",
    "                 {'class_weight': 'balanced',\n",
    "                  'max_depth': 5,\n",
    "                  'max_features': 'sqrt',\n",
    "                  'min_samples_leaf': 5,\n",
    "                  'min_samples_split': 5,\n",
    "                  'n_estimators': 500}],\n",
    "                \n",
    "                ['Decision Tree Classifier',\n",
    "                 0.9258830258830258,\n",
    "                 0.024000088373819988,\n",
    "                 {'class_weight': None,\n",
    "                  'max_depth': 5,\n",
    "                  'max_features': 'log2',\n",
    "                  'min_samples_leaf': 10,\n",
    "                  'min_samples_split': 5}],\n",
    "                \n",
    "                ['Linear S V C',\n",
    "                 0.9529100529100529,\n",
    "                 0.15733114878336588,\n",
    "                 {'C': 1.0, \n",
    "                  'class_weight': 'balanced', \n",
    "                  'max_iter': 1000}]]"
   ]
  },
  {
   "cell_type": "code",
   "execution_count": 31,
   "id": "a5d67b09",
   "metadata": {},
   "outputs": [
    {
     "data": {
      "text/html": [
       "<style type=\"text/css\">\n",
       "#T_1d001 td:hover {\n",
       "  background: #9E4447;\n",
       "  color: #ffffff;\n",
       "}\n",
       "#T_1d001 tr:nth-of-type(even) {\n",
       "  background: #D9D9D9;\n",
       "  color: black;\n",
       "}\n",
       "#T_1d001 tr:nth-of-type(odd) {\n",
       "  background: #ffffff;\n",
       "  color: #363636;\n",
       "}\n",
       "#T_1d001 th {\n",
       "  background: #363636;\n",
       "  color: #ffffff;\n",
       "  text-align: center;\n",
       "}\n",
       "#T_1d001 tr:hover {\n",
       "  background: #808080;\n",
       "  color: #ffffff;\n",
       "}\n",
       "#T_1d001 td {\n",
       "  border: 1px dashed #363636;\n",
       "}\n",
       "#T_1d001  {\n",
       "  border: 2px solid #363636;\n",
       "}\n",
       "</style>\n",
       "<table id=\"T_1d001\">\n",
       "  <caption>Результаты моделей с подбором гиперпараметров</caption>\n",
       "  <thead>\n",
       "    <tr>\n",
       "      <th class=\"blank level0\" >&nbsp;</th>\n",
       "      <th id=\"T_1d001_level0_col0\" class=\"col_heading level0 col0\" >model</th>\n",
       "      <th id=\"T_1d001_level0_col1\" class=\"col_heading level0 col1\" >f1</th>\n",
       "      <th id=\"T_1d001_level0_col2\" class=\"col_heading level0 col2\" >mean_fit_time</th>\n",
       "      <th id=\"T_1d001_level0_col3\" class=\"col_heading level0 col3\" >parameters</th>\n",
       "    </tr>\n",
       "  </thead>\n",
       "  <tbody>\n",
       "    <tr>\n",
       "      <th id=\"T_1d001_level0_row0\" class=\"row_heading level0 row0\" >0</th>\n",
       "      <td id=\"T_1d001_row0_col0\" class=\"data row0 col0\" >Logistic Regression</td>\n",
       "      <td id=\"T_1d001_row0_col1\" class=\"data row0 col1\" >0.96</td>\n",
       "      <td id=\"T_1d001_row0_col2\" class=\"data row0 col2\" >0.25s</td>\n",
       "      <td id=\"T_1d001_row0_col3\" class=\"data row0 col3\" >{'class_weight': 'balanced', 'solver': 'newton-cg'}</td>\n",
       "    </tr>\n",
       "    <tr>\n",
       "      <th id=\"T_1d001_level0_row1\" class=\"row_heading level0 row1\" >1</th>\n",
       "      <td id=\"T_1d001_row1_col0\" class=\"data row1 col0\" >Random Forest Classifier</td>\n",
       "      <td id=\"T_1d001_row1_col1\" class=\"data row1 col1\" >0.96</td>\n",
       "      <td id=\"T_1d001_row1_col2\" class=\"data row1 col2\" >4.38s</td>\n",
       "      <td id=\"T_1d001_row1_col3\" class=\"data row1 col3\" >{'class_weight': 'balanced', 'max_depth': 5, 'max_features': 'sqrt', 'min_samples_leaf': 5, 'min_samples_split': 5, 'n_estimators': 500}</td>\n",
       "    </tr>\n",
       "    <tr>\n",
       "      <th id=\"T_1d001_level0_row2\" class=\"row_heading level0 row2\" >2</th>\n",
       "      <td id=\"T_1d001_row2_col0\" class=\"data row2 col0\" >Linear S V C</td>\n",
       "      <td id=\"T_1d001_row2_col1\" class=\"data row2 col1\" >0.95</td>\n",
       "      <td id=\"T_1d001_row2_col2\" class=\"data row2 col2\" >0.16s</td>\n",
       "      <td id=\"T_1d001_row2_col3\" class=\"data row2 col3\" >{'C': 1.0, 'class_weight': 'balanced', 'max_iter': 1000}</td>\n",
       "    </tr>\n",
       "    <tr>\n",
       "      <th id=\"T_1d001_level0_row3\" class=\"row_heading level0 row3\" >3</th>\n",
       "      <td id=\"T_1d001_row3_col0\" class=\"data row3 col0\" >Decision Tree Classifier</td>\n",
       "      <td id=\"T_1d001_row3_col1\" class=\"data row3 col1\" >0.93</td>\n",
       "      <td id=\"T_1d001_row3_col2\" class=\"data row3 col2\" >0.02s</td>\n",
       "      <td id=\"T_1d001_row3_col3\" class=\"data row3 col3\" >{'class_weight': None, 'max_depth': 5, 'max_features': 'log2', 'min_samples_leaf': 10, 'min_samples_split': 5}</td>\n",
       "    </tr>\n",
       "  </tbody>\n",
       "</table>\n"
      ],
      "text/plain": [
       "<pandas.io.formats.style.Styler at 0x2275a2fe1f0>"
      ]
     },
     "execution_count": 31,
     "metadata": {},
     "output_type": "execute_result"
    }
   ],
   "source": [
    "pd.DataFrame(data    = scores_param, \n",
    "             columns = ['model', 'f1', 'mean_fit_time', 'parameters'])\\\n",
    "            .sort_values(['f1', 'mean_fit_time'], ascending = [False, True])\\\n",
    "            .reset_index(drop = True)\\\n",
    "            .style\\\n",
    "            .format({'f1':'{:.2f}', 'mean_fit_time' : '{:,.2f}s'})\\\n",
    "            .set_caption(f'Результаты моделей с подбором гиперпараметров',)\\\n",
    "            .set_table_styles(styler)"
   ]
  },
  {
   "cell_type": "markdown",
   "id": "1a26f663",
   "metadata": {},
   "source": [
    "<div style=\"background-color:#f3f3f3; border:solid #363636 2px; padding: 20px\">    \n",
    "    \n",
    "После подбора параметров и обучения моделей рейтинг не измениля. Две модели на данном этапе показывают одинаковый результат по качеству модели, но с ощутимой разницей в скорости обучения модели, считаю что на данном этапе **Logistic Regression** является оптимальной. Теперь необходимо посмотреть на модель LightGBM\n",
    "</div>"
   ]
  },
  {
   "cell_type": "markdown",
   "id": "6aba6be8",
   "metadata": {},
   "source": [
    "## Модель LightGBM"
   ]
  },
  {
   "cell_type": "markdown",
   "id": "cec3a4a1",
   "metadata": {},
   "source": [
    "<div style=\"background-color:#f3f3f3; border:solid #363636 2px; padding: 20px\">\n",
    "    \n",
    "Отдельно подготовлю модель **LGBMClassifier**\n",
    "</div>"
   ]
  },
  {
   "cell_type": "code",
   "execution_count": 32,
   "id": "9bd4fb95",
   "metadata": {},
   "outputs": [],
   "source": [
    "lgb_model = LGBMClassifier(random_state = RANDOM)"
   ]
  },
  {
   "cell_type": "raw",
   "id": "7a23e4e2",
   "metadata": {},
   "source": [
    "lgb_parameters = {'objective'        : ['binary'],\n",
    "                  'metric'           : ['f1'],\n",
    "                  'boosting_type'    : ['gbdt'],\n",
    "                  'learning_rate'    : [0.1],\n",
    "                  'n_estimators'     : [20, 50, 100],\n",
    "                  'max_depth'        : [5, 15, 20],\n",
    "                  'num_iterations'   : [500, 1000, 1500],\n",
    "                  'class_weight'     : ['balanced']}"
   ]
  },
  {
   "cell_type": "raw",
   "id": "8a4a15b7",
   "metadata": {},
   "source": [
    "%%time\n",
    "scores = []\n",
    "\n",
    "grid_model = GridSearchCV(estimator  = lgb_model,\n",
    "                          param_grid = lgb_parameters,\n",
    "                          verbose    = 4,\n",
    "                          scoring    = METRIC,\n",
    "                          n_jobs     = -1,\n",
    "                          cv         = 3)\n",
    "                          \n",
    "grid_model.fit(features_train, target_train, categorical_feature = None)   \n",
    "\n",
    "time_score    = grid_model.cv_results_['mean_test_score']\n",
    "mean_fit_time = grid_model.cv_results_['mean_fit_time'][np.where(time_score == time_score.max())[0][0]]\n",
    "\n",
    "scores.append(['LGBM Classifier',\n",
    "               grid_model.best_score_,\n",
    "               mean_fit_time,\n",
    "               grid_model.best_params_])"
   ]
  },
  {
   "cell_type": "code",
   "execution_count": 33,
   "id": "39fd0565",
   "metadata": {},
   "outputs": [],
   "source": [
    "scores_lgb = [['LGBM Classifier',\n",
    "               0.9322128851540615,\n",
    "               7.787069638570149,\n",
    "               {'boosting_type': 'gbdt',\n",
    "                'class_weight': 'balanced',\n",
    "                'learning_rate': 0.1,\n",
    "                'max_depth': 5,\n",
    "                'metric': 'f1',\n",
    "                'n_estimators': 20,\n",
    "                'num_iterations': 500,\n",
    "                'objective': 'binary'}]]"
   ]
  },
  {
   "cell_type": "code",
   "execution_count": 34,
   "id": "0d9c4bf2",
   "metadata": {},
   "outputs": [
    {
     "data": {
      "text/html": [
       "<style type=\"text/css\">\n",
       "#T_d8601 td:hover {\n",
       "  background: #9E4447;\n",
       "  color: #ffffff;\n",
       "}\n",
       "#T_d8601 tr:nth-of-type(even) {\n",
       "  background: #D9D9D9;\n",
       "  color: black;\n",
       "}\n",
       "#T_d8601 tr:nth-of-type(odd) {\n",
       "  background: #ffffff;\n",
       "  color: #363636;\n",
       "}\n",
       "#T_d8601 th {\n",
       "  background: #363636;\n",
       "  color: #ffffff;\n",
       "  text-align: center;\n",
       "}\n",
       "#T_d8601 tr:hover {\n",
       "  background: #808080;\n",
       "  color: #ffffff;\n",
       "}\n",
       "#T_d8601 td {\n",
       "  border: 1px dashed #363636;\n",
       "}\n",
       "#T_d8601  {\n",
       "  border: 2px solid #363636;\n",
       "}\n",
       "</style>\n",
       "<table id=\"T_d8601\">\n",
       "  <caption>Результаты поиска лучшей модели LightGBM с подбором гиперпараметров</caption>\n",
       "  <thead>\n",
       "    <tr>\n",
       "      <th class=\"blank level0\" >&nbsp;</th>\n",
       "      <th id=\"T_d8601_level0_col0\" class=\"col_heading level0 col0\" >model</th>\n",
       "      <th id=\"T_d8601_level0_col1\" class=\"col_heading level0 col1\" >f1</th>\n",
       "      <th id=\"T_d8601_level0_col2\" class=\"col_heading level0 col2\" >mean_fit_time</th>\n",
       "      <th id=\"T_d8601_level0_col3\" class=\"col_heading level0 col3\" >parameters</th>\n",
       "    </tr>\n",
       "  </thead>\n",
       "  <tbody>\n",
       "    <tr>\n",
       "      <th id=\"T_d8601_level0_row0\" class=\"row_heading level0 row0\" >0</th>\n",
       "      <td id=\"T_d8601_row0_col0\" class=\"data row0 col0\" >LGBM Classifier</td>\n",
       "      <td id=\"T_d8601_row0_col1\" class=\"data row0 col1\" >0.93</td>\n",
       "      <td id=\"T_d8601_row0_col2\" class=\"data row0 col2\" >7.79s</td>\n",
       "      <td id=\"T_d8601_row0_col3\" class=\"data row0 col3\" >{'boosting_type': 'gbdt', 'class_weight': 'balanced', 'learning_rate': 0.1, 'max_depth': 5, 'metric': 'f1', 'n_estimators': 20, 'num_iterations': 500, 'objective': 'binary'}</td>\n",
       "    </tr>\n",
       "  </tbody>\n",
       "</table>\n"
      ],
      "text/plain": [
       "<pandas.io.formats.style.Styler at 0x2275a310250>"
      ]
     },
     "execution_count": 34,
     "metadata": {},
     "output_type": "execute_result"
    }
   ],
   "source": [
    "pd.DataFrame(data    = scores_lgb, \n",
    "             columns = ['model', 'f1', 'mean_fit_time', 'parameters'])\\\n",
    "            .reset_index(drop = True)\\\n",
    "            .style\\\n",
    "            .format({'f1':'{:.2f}', 'mean_fit_time' : '{:,.2f}s'})\\\n",
    "            .set_caption(f'Результаты поиска лучшей модели LightGBM с подбором гиперпараметров',)\\\n",
    "            .set_table_styles(styler)"
   ]
  },
  {
   "cell_type": "markdown",
   "id": "6cf28d66",
   "metadata": {},
   "source": [
    "<div style=\"background-color:#f3f3f3; border:solid #363636 2px; padding: 20px\">\n",
    "    \n",
    "Модель **LGBMClassifier** показала одни из самых худших результатов и по качеству модели и по скорости работы алгоритма. Посмотрим на результаты всех этапов, сделаем выводы и выберем лучшую модель для тестирования\n",
    "</div>"
   ]
  },
  {
   "cell_type": "code",
   "execution_count": 35,
   "id": "9a35e77e",
   "metadata": {},
   "outputs": [],
   "source": [
    "data_info = pd.DataFrame(data = np.array(scores_base)[:,:3], \n",
    "                          columns = ['model', 'f1_base', 'time_base']) \\\n",
    "                                                                         \\\n",
    "                                .append(pd.DataFrame(data = np.array(scores_lgb)[:,:3],\n",
    "                                                     columns = ['model', 'f1_base', 'time_base'])) \\\n",
    "                                                                                                     \\\n",
    "                                .merge(pd.DataFrame( data = np.array(scores_param)[:,:3], \n",
    "                                                     columns = ['model', 'f1_param', 'time_param']) \\\n",
    "                                                                                                      \\\n",
    "                                                .append(pd.DataFrame(data = np.array(scores_lgb)[:,:3], \n",
    "                                                     columns = ['model', 'f1_param', 'time_param'])), \n",
    "                                                                   on = 'model', \n",
    "                                                                   how = 'outer')\n",
    "\n",
    "data_info.loc[4][['f1_base', 'time_base']] = 0"
   ]
  },
  {
   "cell_type": "code",
   "execution_count": 36,
   "id": "0ff3f18a",
   "metadata": {},
   "outputs": [
    {
     "data": {
      "text/html": [
       "<style type=\"text/css\">\n",
       "#T_4df71 td:hover {\n",
       "  background: #9E4447;\n",
       "  color: #ffffff;\n",
       "}\n",
       "#T_4df71 tr:nth-of-type(even) {\n",
       "  background: #D9D9D9;\n",
       "  color: black;\n",
       "}\n",
       "#T_4df71 tr:nth-of-type(odd) {\n",
       "  background: #ffffff;\n",
       "  color: #363636;\n",
       "}\n",
       "#T_4df71 th {\n",
       "  background: #363636;\n",
       "  color: #ffffff;\n",
       "  text-align: center;\n",
       "}\n",
       "#T_4df71 tr:hover {\n",
       "  background: #808080;\n",
       "  color: #ffffff;\n",
       "}\n",
       "#T_4df71 td {\n",
       "  border: 1px dashed #363636;\n",
       "}\n",
       "#T_4df71  {\n",
       "  border: 2px solid #363636;\n",
       "}\n",
       "</style>\n",
       "<table id=\"T_4df71\">\n",
       "  <caption>Результаты этапов обучения моделей</caption>\n",
       "  <thead>\n",
       "    <tr>\n",
       "      <th class=\"blank level0\" >&nbsp;</th>\n",
       "      <th id=\"T_4df71_level0_col0\" class=\"col_heading level0 col0\" >model</th>\n",
       "      <th id=\"T_4df71_level0_col1\" class=\"col_heading level0 col1\" >f1_base</th>\n",
       "      <th id=\"T_4df71_level0_col2\" class=\"col_heading level0 col2\" >time_base</th>\n",
       "      <th id=\"T_4df71_level0_col3\" class=\"col_heading level0 col3\" >f1_param</th>\n",
       "      <th id=\"T_4df71_level0_col4\" class=\"col_heading level0 col4\" >time_param</th>\n",
       "    </tr>\n",
       "  </thead>\n",
       "  <tbody>\n",
       "    <tr>\n",
       "      <th id=\"T_4df71_level0_row0\" class=\"row_heading level0 row0\" >0</th>\n",
       "      <td id=\"T_4df71_row0_col0\" class=\"data row0 col0\" >Logistic Regression</td>\n",
       "      <td id=\"T_4df71_row0_col1\" class=\"data row0 col1\" >0.95</td>\n",
       "      <td id=\"T_4df71_row0_col2\" class=\"data row0 col2\" >0.19s</td>\n",
       "      <td id=\"T_4df71_row0_col3\" class=\"data row0 col3\" >0.96</td>\n",
       "      <td id=\"T_4df71_row0_col4\" class=\"data row0 col4\" >0.25s</td>\n",
       "    </tr>\n",
       "    <tr>\n",
       "      <th id=\"T_4df71_level0_row1\" class=\"row_heading level0 row1\" >1</th>\n",
       "      <td id=\"T_4df71_row1_col0\" class=\"data row1 col0\" >Random Forest Classifier</td>\n",
       "      <td id=\"T_4df71_row1_col1\" class=\"data row1 col1\" >0.95</td>\n",
       "      <td id=\"T_4df71_row1_col2\" class=\"data row1 col2\" >0.77s</td>\n",
       "      <td id=\"T_4df71_row1_col3\" class=\"data row1 col3\" >0.96</td>\n",
       "      <td id=\"T_4df71_row1_col4\" class=\"data row1 col4\" >4.38s</td>\n",
       "    </tr>\n",
       "    <tr>\n",
       "      <th id=\"T_4df71_level0_row2\" class=\"row_heading level0 row2\" >2</th>\n",
       "      <td id=\"T_4df71_row2_col0\" class=\"data row2 col0\" >Linear S V C</td>\n",
       "      <td id=\"T_4df71_row2_col1\" class=\"data row2 col1\" >0.94</td>\n",
       "      <td id=\"T_4df71_row2_col2\" class=\"data row2 col2\" >0.12s</td>\n",
       "      <td id=\"T_4df71_row2_col3\" class=\"data row2 col3\" >0.95</td>\n",
       "      <td id=\"T_4df71_row2_col4\" class=\"data row2 col4\" >0.16s</td>\n",
       "    </tr>\n",
       "    <tr>\n",
       "      <th id=\"T_4df71_level0_row3\" class=\"row_heading level0 row3\" >3</th>\n",
       "      <td id=\"T_4df71_row3_col0\" class=\"data row3 col0\" >LGBM Classifier</td>\n",
       "      <td id=\"T_4df71_row3_col1\" class=\"data row3 col1\" >0.00</td>\n",
       "      <td id=\"T_4df71_row3_col2\" class=\"data row3 col2\" >0.00s</td>\n",
       "      <td id=\"T_4df71_row3_col3\" class=\"data row3 col3\" >0.93</td>\n",
       "      <td id=\"T_4df71_row3_col4\" class=\"data row3 col4\" >7.79s</td>\n",
       "    </tr>\n",
       "    <tr>\n",
       "      <th id=\"T_4df71_level0_row4\" class=\"row_heading level0 row4\" >4</th>\n",
       "      <td id=\"T_4df71_row4_col0\" class=\"data row4 col0\" >Decision Tree Classifier</td>\n",
       "      <td id=\"T_4df71_row4_col1\" class=\"data row4 col1\" >0.86</td>\n",
       "      <td id=\"T_4df71_row4_col2\" class=\"data row4 col2\" >0.08s</td>\n",
       "      <td id=\"T_4df71_row4_col3\" class=\"data row4 col3\" >0.93</td>\n",
       "      <td id=\"T_4df71_row4_col4\" class=\"data row4 col4\" >0.02s</td>\n",
       "    </tr>\n",
       "  </tbody>\n",
       "</table>\n"
      ],
      "text/plain": [
       "<pandas.io.formats.style.Styler at 0x227518abb80>"
      ]
     },
     "execution_count": 36,
     "metadata": {},
     "output_type": "execute_result"
    }
   ],
   "source": [
    "data_info.sort_values(['f1_param', 'time_param'], ascending = [False, True]).reset_index(drop = True) \\\n",
    "                                .style\\\n",
    "                                .format({'f1_base':'{:.2f}', \n",
    "                                         'time_base' : '{:,.2f}s',\n",
    "                                         'f1_param':'{:.2f}', \n",
    "                                         'time_param' : '{:,.2f}s'})\\\n",
    "                                .set_caption(f'Результаты этапов обучения моделей',)\\\n",
    "                                .set_table_styles(styler)"
   ]
  },
  {
   "cell_type": "markdown",
   "id": "6cdd5de9",
   "metadata": {},
   "source": [
    "<div style=\"background-color:gray; border:solid #363636 2px; padding: 20px\">  \n",
    "    \n",
    "<span style=\"color:white\">**Выводы:**</span>  \n",
    "   \n",
    "<span style=\"color:white\">\n",
    "    \n",
    "Как видно из сводных данных выше, лучшие показатели по качеству предсказания показывает модель **Logistic Regression**, и один из лучших показателей по скорости работы алгоритма. На данном этапе мы определяем лучшую модель по критериям время/качество **Logistic Regression**. Модель **Random Forest Classifier** тоже перенесу на следующий, чтобы посмотреть как она ведет себя на тестовых данных, но уже не в рамках подготовки модели для данного проекта, так как данная модель показала результаты аналогичные выбранной модели уступая ей только в скорости работы.\n",
    "</span>\n",
    "</div>"
   ]
  },
  {
   "cell_type": "markdown",
   "id": "f5754a95",
   "metadata": {},
   "source": [
    "<div class=\"alert alert-success\">\n",
    "<h2> Комментарий ревьюера <a class=\"tocSkip\"> </h2>\n",
    "\n",
    "<b>Все отлично!👍:</b> \n",
    "    \n",
    "Хорошо"
   ]
  },
  {
   "cell_type": "markdown",
   "id": "6ed1d2cc",
   "metadata": {},
   "source": [
    "# Тестирование лучшей модели"
   ]
  },
  {
   "cell_type": "markdown",
   "id": "47394f05",
   "metadata": {},
   "source": [
    "<div style=\"background-color:#f3f3f3; border:solid #363636 2px; padding: 20px\">    \n",
    "Тестирование модели буду проводить на тестовой выборке для выбранной модели на предыдущем этапе\n",
    "</div>"
   ]
  },
  {
   "cell_type": "markdown",
   "id": "5e2e26f5",
   "metadata": {},
   "source": [
    "## Тестирование модели Logistic Regression"
   ]
  },
  {
   "cell_type": "code",
   "execution_count": 37,
   "id": "545830b6",
   "metadata": {},
   "outputs": [],
   "source": [
    "final_model_LR = LogisticRegression(**scores_param[0][3])"
   ]
  },
  {
   "cell_type": "code",
   "execution_count": 38,
   "id": "ddb4c28d",
   "metadata": {},
   "outputs": [
    {
     "name": "stdout",
     "output_type": "stream",
     "text": [
      "CPU times: total: 391 ms\n",
      "Wall time: 517 ms\n"
     ]
    }
   ],
   "source": [
    "%%time\n",
    "start = time()        \n",
    "final_model_LR.fit(features_train, target_train)     \n",
    "train_time_LR = time() - start "
   ]
  },
  {
   "cell_type": "code",
   "execution_count": 39,
   "id": "8b69eba9",
   "metadata": {},
   "outputs": [],
   "source": [
    "final_pred_LR  = final_model_LR.predict(features_test)\n",
    "final_score_LR = f1_score(target_test, final_pred_LR)"
   ]
  },
  {
   "cell_type": "code",
   "execution_count": 40,
   "id": "2d1c598d",
   "metadata": {},
   "outputs": [],
   "source": [
    "final_prob_score_LR = final_model_LR.predict_proba(features_test)[:,1]"
   ]
  },
  {
   "cell_type": "code",
   "execution_count": 41,
   "id": "35adbef7",
   "metadata": {},
   "outputs": [
    {
     "data": {
      "text/plain": [
       "0.9245283018867925"
      ]
     },
     "execution_count": 41,
     "metadata": {},
     "output_type": "execute_result"
    }
   ],
   "source": [
    "final_score_LR"
   ]
  },
  {
   "cell_type": "markdown",
   "id": "ef0204b0",
   "metadata": {},
   "source": [
    "## Random Forest Classifier"
   ]
  },
  {
   "cell_type": "markdown",
   "id": "dfece15e",
   "metadata": {},
   "source": [
    "<div style=\"background-color:#f3f3f3; border:solid #363636 2px; padding: 20px\">    \n",
    "Тестирование модели вне проектного выбора\n",
    "</div>"
   ]
  },
  {
   "cell_type": "code",
   "execution_count": 42,
   "id": "8e5e78d3",
   "metadata": {},
   "outputs": [],
   "source": [
    "final_model_RFC = RandomForestClassifier(**scores_param[1][3])"
   ]
  },
  {
   "cell_type": "code",
   "execution_count": 43,
   "id": "82b98027",
   "metadata": {
    "scrolled": true
   },
   "outputs": [
    {
     "name": "stdout",
     "output_type": "stream",
     "text": [
      "CPU times: total: 3.98 s\n",
      "Wall time: 5.84 s\n"
     ]
    }
   ],
   "source": [
    "%%time\n",
    "start = time()        \n",
    "final_model_RFC.fit(features_train, target_train)     \n",
    "train_time_RFC = time() - start "
   ]
  },
  {
   "cell_type": "code",
   "execution_count": 44,
   "id": "92669350",
   "metadata": {},
   "outputs": [],
   "source": [
    "final_pred_RFC  = final_model_RFC.predict(features_test)"
   ]
  },
  {
   "cell_type": "code",
   "execution_count": 45,
   "id": "9f28f669",
   "metadata": {},
   "outputs": [],
   "source": [
    "final_score_RFC = f1_score(target_test, final_pred_RFC)"
   ]
  },
  {
   "cell_type": "code",
   "execution_count": 46,
   "id": "f3494a60",
   "metadata": {},
   "outputs": [
    {
     "data": {
      "text/plain": [
       "0.9629629629629629"
      ]
     },
     "execution_count": 46,
     "metadata": {},
     "output_type": "execute_result"
    }
   ],
   "source": [
    "final_score_RFC"
   ]
  },
  {
   "cell_type": "markdown",
   "id": "622fe9b1",
   "metadata": {},
   "source": [
    "<div style=\"background-color:#f3f3f3; border:solid #363636 2px; padding: 20px\">    \n",
    "И так все этапы пройдены, необходимо посмотреть на результаты всех расчетов\n",
    "</div>"
   ]
  },
  {
   "cell_type": "code",
   "execution_count": 47,
   "id": "81ef1f0d",
   "metadata": {},
   "outputs": [],
   "source": [
    "final_scores = [['Logistic Regression', final_score_LR, train_time_LR],\n",
    "                ['Random Forest Classifier', final_score_RFC, train_time_RFC,]]"
   ]
  },
  {
   "cell_type": "code",
   "execution_count": 48,
   "id": "647d3344",
   "metadata": {
    "scrolled": true
   },
   "outputs": [
    {
     "data": {
      "text/html": [
       "<style type=\"text/css\">\n",
       "#T_1b29a td:hover {\n",
       "  background: #9E4447;\n",
       "  color: #ffffff;\n",
       "}\n",
       "#T_1b29a tr:nth-of-type(even) {\n",
       "  background: #D9D9D9;\n",
       "  color: black;\n",
       "}\n",
       "#T_1b29a tr:nth-of-type(odd) {\n",
       "  background: #ffffff;\n",
       "  color: #363636;\n",
       "}\n",
       "#T_1b29a th {\n",
       "  background: #363636;\n",
       "  color: #ffffff;\n",
       "  text-align: center;\n",
       "}\n",
       "#T_1b29a tr:hover {\n",
       "  background: #808080;\n",
       "  color: #ffffff;\n",
       "}\n",
       "#T_1b29a td {\n",
       "  border: 1px dashed #363636;\n",
       "}\n",
       "#T_1b29a  {\n",
       "  border: 2px solid #363636;\n",
       "}\n",
       "</style>\n",
       "<table id=\"T_1b29a\">\n",
       "  <caption>Финальные результаты обучения моделей</caption>\n",
       "  <thead>\n",
       "    <tr>\n",
       "      <th class=\"blank level0\" >&nbsp;</th>\n",
       "      <th id=\"T_1b29a_level0_col0\" class=\"col_heading level0 col0\" >model</th>\n",
       "      <th id=\"T_1b29a_level0_col1\" class=\"col_heading level0 col1\" >f1_base</th>\n",
       "      <th id=\"T_1b29a_level0_col2\" class=\"col_heading level0 col2\" >time_base</th>\n",
       "      <th id=\"T_1b29a_level0_col3\" class=\"col_heading level0 col3\" >f1_param</th>\n",
       "      <th id=\"T_1b29a_level0_col4\" class=\"col_heading level0 col4\" >time_param</th>\n",
       "      <th id=\"T_1b29a_level0_col5\" class=\"col_heading level0 col5\" >f1_final</th>\n",
       "      <th id=\"T_1b29a_level0_col6\" class=\"col_heading level0 col6\" >time_final</th>\n",
       "    </tr>\n",
       "  </thead>\n",
       "  <tbody>\n",
       "    <tr>\n",
       "      <th id=\"T_1b29a_level0_row0\" class=\"row_heading level0 row0\" >0</th>\n",
       "      <td id=\"T_1b29a_row0_col0\" class=\"data row0 col0\" >Random Forest Classifier</td>\n",
       "      <td id=\"T_1b29a_row0_col1\" class=\"data row0 col1\" >0.95</td>\n",
       "      <td id=\"T_1b29a_row0_col2\" class=\"data row0 col2\" >0.77s</td>\n",
       "      <td id=\"T_1b29a_row0_col3\" class=\"data row0 col3\" >0.96</td>\n",
       "      <td id=\"T_1b29a_row0_col4\" class=\"data row0 col4\" >4.38s</td>\n",
       "      <td id=\"T_1b29a_row0_col5\" class=\"data row0 col5\" >0.96</td>\n",
       "      <td id=\"T_1b29a_row0_col6\" class=\"data row0 col6\" >5.84s</td>\n",
       "    </tr>\n",
       "    <tr>\n",
       "      <th id=\"T_1b29a_level0_row1\" class=\"row_heading level0 row1\" >1</th>\n",
       "      <td id=\"T_1b29a_row1_col0\" class=\"data row1 col0\" >Logistic Regression</td>\n",
       "      <td id=\"T_1b29a_row1_col1\" class=\"data row1 col1\" >0.95</td>\n",
       "      <td id=\"T_1b29a_row1_col2\" class=\"data row1 col2\" >0.19s</td>\n",
       "      <td id=\"T_1b29a_row1_col3\" class=\"data row1 col3\" >0.96</td>\n",
       "      <td id=\"T_1b29a_row1_col4\" class=\"data row1 col4\" >0.25s</td>\n",
       "      <td id=\"T_1b29a_row1_col5\" class=\"data row1 col5\" >0.92</td>\n",
       "      <td id=\"T_1b29a_row1_col6\" class=\"data row1 col6\" >0.52s</td>\n",
       "    </tr>\n",
       "    <tr>\n",
       "      <th id=\"T_1b29a_level0_row2\" class=\"row_heading level0 row2\" >2</th>\n",
       "      <td id=\"T_1b29a_row2_col0\" class=\"data row2 col0\" >Decision Tree Classifier</td>\n",
       "      <td id=\"T_1b29a_row2_col1\" class=\"data row2 col1\" >0.86</td>\n",
       "      <td id=\"T_1b29a_row2_col2\" class=\"data row2 col2\" >0.08s</td>\n",
       "      <td id=\"T_1b29a_row2_col3\" class=\"data row2 col3\" >0.93</td>\n",
       "      <td id=\"T_1b29a_row2_col4\" class=\"data row2 col4\" >0.02s</td>\n",
       "      <td id=\"T_1b29a_row2_col5\" class=\"data row2 col5\" >0.00</td>\n",
       "      <td id=\"T_1b29a_row2_col6\" class=\"data row2 col6\" >0.00s</td>\n",
       "    </tr>\n",
       "    <tr>\n",
       "      <th id=\"T_1b29a_level0_row3\" class=\"row_heading level0 row3\" >3</th>\n",
       "      <td id=\"T_1b29a_row3_col0\" class=\"data row3 col0\" >Linear S V C</td>\n",
       "      <td id=\"T_1b29a_row3_col1\" class=\"data row3 col1\" >0.94</td>\n",
       "      <td id=\"T_1b29a_row3_col2\" class=\"data row3 col2\" >0.12s</td>\n",
       "      <td id=\"T_1b29a_row3_col3\" class=\"data row3 col3\" >0.95</td>\n",
       "      <td id=\"T_1b29a_row3_col4\" class=\"data row3 col4\" >0.16s</td>\n",
       "      <td id=\"T_1b29a_row3_col5\" class=\"data row3 col5\" >0.00</td>\n",
       "      <td id=\"T_1b29a_row3_col6\" class=\"data row3 col6\" >0.00s</td>\n",
       "    </tr>\n",
       "    <tr>\n",
       "      <th id=\"T_1b29a_level0_row4\" class=\"row_heading level0 row4\" >4</th>\n",
       "      <td id=\"T_1b29a_row4_col0\" class=\"data row4 col0\" >LGBM Classifier</td>\n",
       "      <td id=\"T_1b29a_row4_col1\" class=\"data row4 col1\" >0.00</td>\n",
       "      <td id=\"T_1b29a_row4_col2\" class=\"data row4 col2\" >0.00s</td>\n",
       "      <td id=\"T_1b29a_row4_col3\" class=\"data row4 col3\" >0.93</td>\n",
       "      <td id=\"T_1b29a_row4_col4\" class=\"data row4 col4\" >7.79s</td>\n",
       "      <td id=\"T_1b29a_row4_col5\" class=\"data row4 col5\" >0.00</td>\n",
       "      <td id=\"T_1b29a_row4_col6\" class=\"data row4 col6\" >0.00s</td>\n",
       "    </tr>\n",
       "  </tbody>\n",
       "</table>\n"
      ],
      "text/plain": [
       "<pandas.io.formats.style.Styler at 0x22758daddc0>"
      ]
     },
     "execution_count": 48,
     "metadata": {},
     "output_type": "execute_result"
    }
   ],
   "source": [
    "data_info \\\n",
    "    .merge(pd.DataFrame(final_scores, columns = ['model', 'f1_final', 'time_final']),\n",
    "                           on = 'model', how = 'outer') \\\n",
    "                            .sort_values(['f1_final', 'time_final'], ascending = [False, True]).reset_index(drop = True) \\\n",
    "                            .fillna(0).style\\\n",
    "                            .format({'f1_base'  : '{:.2f}', \n",
    "                                     'time_base'  : '{:,.2f}s',\n",
    "                                     'f1_param' : '{:.2f}', \n",
    "                                     'time_param' : '{:,.2f}s',\n",
    "                                     'f1_final' : '{:.2f}',\n",
    "                                     'time_final' : '{:.2f}s'})\\\n",
    "                            .set_caption(f'Финальные результаты обучения моделей',)\\\n",
    "                            .set_table_styles(styler)"
   ]
  },
  {
   "cell_type": "markdown",
   "id": "386cac03",
   "metadata": {},
   "source": [
    "<div style=\"background-color:#f3f3f3; border:solid #363636 2px; padding: 20px\"> \n",
    "    \n",
    "В сводной таблице представлены данные за все пройденные этапы, как уже было сказано ранее была выбрана модель **Logistic Regression**, которая показала результат на тестовой выборке выше чем было требование заказчика по качеству модели, модель имеет качество метрики **0,92** можно сказать что задание выполнено. На тестовой выборке она проиграла модели **Random Forest Classifier** в качестве метрики, но в реальных задачач мы могли об этом не узнать не имея тестовой выборки. Далее хотелось бы визуально представить результаты предсказания модели и оценить ее качественные характеристики\n",
    "</div>"
   ]
  },
  {
   "cell_type": "markdown",
   "id": "efbe6175",
   "metadata": {},
   "source": [
    "<div class=\"alert alert-success\">\n",
    "<h2> Комментарий ревьюера <a class=\"tocSkip\"> </h2>\n",
    "\n",
    "<b>Все отлично!👍:</b> \n",
    "    \n",
    "Супер. Молодец, что выводишь таблицу и анализируешь результаты"
   ]
  },
  {
   "cell_type": "markdown",
   "id": "a154efdb",
   "metadata": {},
   "source": [
    "## Результаты предсказания модели"
   ]
  },
  {
   "cell_type": "code",
   "execution_count": 49,
   "id": "356da97d",
   "metadata": {
    "scrolled": true
   },
   "outputs": [
    {
     "data": {
      "image/png": "[encoded data removed]",
      "text/plain": [
       "<Figure size 432x288 with 2 Axes>"
      ]
     },
     "metadata": {},
     "output_type": "display_data"
    }
   ],
   "source": [
    "matrix = confusion_matrix(target_test, final_pred_LR)\n",
    "disp = ConfusionMatrixDisplay(confusion_matrix = matrix, display_labels = ['Untoxic', 'Toxic'])\n",
    "\n",
    "disp.plot(cmap = 'bone')\n",
    "plt.grid(False)\n",
    "plt.xlabel('')\n",
    "plt.ylabel('')\n",
    "plt.title('Confusion Matrix', fontsize = 14)\n",
    "plt.xticks(fontsize = 14)\n",
    "plt.yticks(fontsize = 14)\n",
    "plt.show()"
   ]
  },
  {
   "cell_type": "markdown",
   "id": "9bdfbf76",
   "metadata": {},
   "source": [
    "<div style=\"background-color:#f3f3f3; border:solid #363636 2px; padding: 20px\"> \n",
    "    \n",
    "В таблице представлены результаты предсказания модели, как видно модель отлично справляется с поставленной задачей, ошибок минимальное количество.\n",
    "    \n",
    "Посмотрим теперь на ROC-кривую модели\n",
    "</div>"
   ]
  },
  {
   "cell_type": "code",
   "execution_count": 50,
   "id": "f77c17d4",
   "metadata": {
    "scrolled": false
   },
   "outputs": [
    {
     "data": {
      "image/png": "[encoded data removed]",
      "text/plain": [
       "<Figure size 504x504 with 1 Axes>"
      ]
     },
     "metadata": {},
     "output_type": "display_data"
    },
    {
     "name": "stdout",
     "output_type": "stream",
     "text": [
      "TPR модели = 0.92 False Positive Rate \n",
      "FPR модели = 0.01 True  Positive Rate\n"
     ]
    }
   ],
   "source": [
    "tn, fp, fn, tp = confusion_matrix(target_test, final_pred_LR).ravel()\n",
    "TPR = tp / (tp + fn)\n",
    "FPR = fp / (fp + tn)\n",
    "\n",
    "fpr, tpr, treshold = roc_curve(target_test, final_prob_score_LR)\n",
    "\n",
    "roc_auc = auc(fpr, tpr)\n",
    "\n",
    "plt.figure(figsize = (7, 7))\n",
    "plt.scatter(FPR, TPR, color = '#363636', linewidth = 3)\n",
    "plt.vlines(FPR, 0, TPR, linestyles = 'dashed', colors = '#363636', linewidth = 3)\n",
    "plt.hlines(TPR, -0.05, FPR, linestyles = 'dashed', colors = '#363636', linewidth = 3)\n",
    "plt.annotate(\"Best Model\", \n",
    "             xy = (FPR, TPR), \n",
    "             xytext = (0.35, 0.7),\n",
    "             arrowprops = dict(facecolor = '#363636'), \n",
    "             fontsize = 14)\n",
    "plt.plot(fpr, tpr, color = '#9E4447', label = f'ROC кривая (area = {roc_auc:.3f})', linewidth = 3)\n",
    "plt.plot([0, 1], [0, 1], color = '#808080', linestyle = 'dotted', linewidth = 3)\n",
    "plt.xlim([-0.05, 1.0])\n",
    "plt.ylim([0.0, 1.05])\n",
    "plt.xlabel('False Positive Rate', fontsize = 14)\n",
    "plt.ylabel('True Positive Rate', fontsize = 14)\n",
    "plt.title('ROC-кривая', fontsize = 16)\n",
    "plt.legend(loc = \"lower right\", fontsize = 12)\n",
    "plt.grid(True)\n",
    "plt.show()\n",
    "print(f'TPR модели = {TPR:.2f} False Positive Rate \\nFPR модели = {FPR:.2f} True  Positive Rate')"
   ]
  },
  {
   "cell_type": "markdown",
   "id": "351ac28c",
   "metadata": {},
   "source": [
    "<div style=\"background-color:#f3f3f3; border:solid #363636 2px; padding: 20px\">    \n",
    "    \n",
    "Отличная метрика модели, которая отображает истинную и постоянную способность модели к прогнозированию, т.е. при изменении тестового набора данных, модель не показала качественно другой результат. Это не лучший результат для модели классификации где показатель, но он превышает качественный порог для метрики AUC > 0.9, что для решения данной задачи является хорошим результатом. Модель готова для использования в определении тональности текста. Качественные показатели, характеризующие эту модель `f1_score` как среднее гармоническое полноты и точности, возможно не совсем показательны в демонстрации качества модели, для этого в выводах так же фигурирует метрика `AUC-ROC`, которая формируется из показателей **'False Positive Rate'** и **'True Positive Rate'**. Которые уже более наглядно указывают на качество модели, где **TPR** (показывает, насколько правильно классификатор находит объекты) и его доля верно предсказанных объектов к общему числу объектов класса = 92%. Доля ложных предсказаний к общему числу объектов за пределами класса показывает метрика **FPR** (показывает, насколько классификатор ошибается в предсказании объектов) и здесь показатель его = 1%\n",
    "</div>"
   ]
  },
  {
   "cell_type": "markdown",
   "id": "53a7970e",
   "metadata": {},
   "source": [
    "<div class=\"alert alert-success\">\n",
    "<h2> Комментарий ревьюера <a class=\"tocSkip\"> </h2>\n",
    "\n",
    "<b>Все отлично!👍:</b> \n",
    "    \n",
    "Отличный рисунок!"
   ]
  },
  {
   "cell_type": "markdown",
   "id": "21f45872",
   "metadata": {},
   "source": [
    "## Проверка на адекватность"
   ]
  },
  {
   "cell_type": "markdown",
   "id": "00e64e7b",
   "metadata": {},
   "source": [
    "<div style=\"background-color:#f3f3f3; border:solid #363636 2px; padding: 20px\">    \n",
    "    \n",
    "Окончательно проверю модель на адекватность с помощю **Dummy Classifier**\n",
    "</div>"
   ]
  },
  {
   "cell_type": "code",
   "execution_count": 51,
   "id": "c9993d77",
   "metadata": {},
   "outputs": [
    {
     "name": "stdout",
     "output_type": "stream",
     "text": [
      "показатель RMSE на модели Dummy Classifier: 0.00\n"
     ]
    }
   ],
   "source": [
    "dummy_model  = DummyClassifier()\n",
    "\n",
    "dummy_model.fit(features_train, target_train) \n",
    "\n",
    "dummy_pred   = dummy_model.predict(features_test)\n",
    "dummy_result = f1_score(target_test, dummy_pred)\n",
    "\n",
    "print(f'показатель RMSE на модели Dummy Classifier: {dummy_result:.2f}')"
   ]
  },
  {
   "cell_type": "markdown",
   "id": "b65acda7",
   "metadata": {},
   "source": [
    "<div style=\"background-color:#f3f3f3; border:solid #363636 2px; padding: 20px\">    \n",
    "    \n",
    "Показатель **F1_SCORE** на модели **Dummy Classifier**, равны 0, значит вероятность того что наша выбранная модель недоучилась исключается\n",
    "</div>"
   ]
  },
  {
   "cell_type": "markdown",
   "id": "f98cdc88",
   "metadata": {},
   "source": [
    "# Выводы"
   ]
  },
  {
   "cell_type": "markdown",
   "id": "1c02e6f1",
   "metadata": {},
   "source": [
    "<div style=\"background-color:#424B54; border:solid #373d43 2px; padding: 20px\">  \n",
    "    \n",
    "<span style=\"color:#EBEBEB\">**Выводы:**</span>  \n",
    "   \n",
    "<span style=\"color:#EBEBEB\">\n",
    "    \n",
    "- Предоставленные данные были проанализированы и подготовлены, для дальнейшей работы. Решение классификации было выполнено на выборке в 1000 строк. Предобработка данных произведена: токенизация и эмбеддинг;\n",
    "    \n",
    "- Задача по подбору модели была выполнена, для этого в несколько этапов была произведена подготовка и проверка моделей на представленных данных, в итоге выбор был сделан в пользу модели **Logistic Regression** , которая с самого начала лучше всех демонстрировала результаты по скорости обучения, и показатели качества модели, в конечном итоге можно с уверенностью констатировать тот факт что эта модель имеет лучшие характеристики скорость/качество с показателями **F1 SCORE = 0.92**.\n",
    "    \n",
    "<span style=\"color:#EBEBEB\">**Итог выбора:**</span>\n",
    "    \n",
    "Лучшая модель Logistic Regression с параметрами:\n",
    "\n",
    "- class_weight : balanced;\n",
    "- solver       : newton-cg\n",
    "</span>\n",
    "</div>"
   ]
  },
  {
   "cell_type": "markdown",
   "id": "fab52fb0",
   "metadata": {},
   "source": [
    "<div class=\"alert alert-success\">\n",
    "<h2> Комментарий ревьюера <a class=\"tocSkip\"> </h2>\n",
    "\n",
    "<b>Все отлично!👍:</b> \n",
    "    \n",
    "Хорошие выводы"
   ]
  }
 ],
 "metadata": {
  "kernelspec": {
   "display_name": "Python 3 (ipykernel)",
   "language": "python",
   "name": "python3"
  },
  "language_info": {
   "codemirror_mode": {
    "name": "ipython",
    "version": 3
   },
   "file_extension": ".py",
   "mimetype": "text/x-python",
   "name": "python",
   "nbconvert_exporter": "python",
   "pygments_lexer": "ipython3",
   "version": "3.9.5"
  },
  "toc": {
   "base_numbering": 1,
   "nav_menu": {},
   "number_sections": true,
   "sideBar": true,
   "skip_h1_title": false,
   "title_cell": "Table of Contents",
   "title_sidebar": "Contents",
   "toc_cell": false,
   "toc_position": {},
   "toc_section_display": true,
   "toc_window_display": true
  }
 },
 "nbformat": 4,
 "nbformat_minor": 5
}
